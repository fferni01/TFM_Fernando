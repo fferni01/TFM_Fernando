{
 "cells": [
  {
   "cell_type": "markdown",
   "id": "13a22dab",
   "metadata": {},
   "source": [
    "# Setup"
   ]
  },
  {
   "cell_type": "code",
   "execution_count": 1,
   "id": "c281b010",
   "metadata": {},
   "outputs": [],
   "source": [
    "# Python ≥3.5 is required\n",
    "import sys\n",
    "assert sys.version_info >= (3, 5)\n",
    "\n",
    "# Scikit-Learn ≥0.20 is required\n",
    "import sklearn\n",
    "assert sklearn.__version__ >= \"0.20\"\n",
    "\n",
    "# Common imports\n",
    "import numpy as np\n",
    "import os\n",
    "\n",
    "# To plot pretty figures\n",
    "%matplotlib inline\n",
    "import matplotlib as mpl\n",
    "import matplotlib.pyplot as plt\n",
    "mpl.rc('axes', labelsize=14)\n",
    "mpl.rc('xtick', labelsize=12)\n",
    "mpl.rc('ytick', labelsize=12)\n"
   ]
  },
  {
   "cell_type": "markdown",
   "id": "c0fb8916",
   "metadata": {},
   "source": [
    "# creo el csv a tratar"
   ]
  },
  {
   "cell_type": "code",
   "execution_count": 2,
   "id": "087a2204",
   "metadata": {
    "scrolled": true
   },
   "outputs": [],
   "source": [
    "import pandas as pd\n",
    "#malicious_data = pd.read_csv(\"TraficoMalo.csv\")\n",
    "#non_malicious_data = pd.read_csv(\"TraficoBueno.csv\")\n",
    "malicious_data = pd.read_csv(\"TraficoMaloCompleto.csv\")\n",
    "non_malicious_data = pd.read_csv(\"TraficoBuenoCompleto.csv\")\n",
    "\n",
    "\n",
    "#malicious_data = pd.read_csv(\"1000sampling.csv\")\n",
    "#non_malicious_data = pd.read_csv(\"Traficobueno1000.csv\")\n"
   ]
  },
  {
   "cell_type": "markdown",
   "id": "935a42a9",
   "metadata": {},
   "source": [
    "# Limpieza de características"
   ]
  },
  {
   "cell_type": "code",
   "execution_count": 3,
   "id": "7d525433",
   "metadata": {},
   "outputs": [],
   "source": [
    "#Elimina datos\n",
    "#columnas_a_eliminar = ['exaddr','engine_type','engine_id','dst_mask','src_mask', 'dst_mask','src_as','dst_as','#:unix_secs','unix_nsecs','sysuptime','first','last','nexthop']\n",
    "columnas_a_eliminar = ['srcaddr','dstaddr','exaddr','engine_type','engine_id','dst_mask','src_mask', 'dst_mask','src_as','dst_as','#:unix_secs','unix_nsecs','sysuptime','first','last','nexthop']\n",
    "malicious_data = malicious_data.drop(columnas_a_eliminar, axis=1)\n",
    "non_malicious_data = non_malicious_data.drop(columnas_a_eliminar, axis=1)"
   ]
  },
  {
   "cell_type": "code",
   "execution_count": 4,
   "id": "4f5ced0e",
   "metadata": {},
   "outputs": [
    {
     "name": "stdout",
     "output_type": "stream",
     "text": [
      "<class 'pandas.core.frame.DataFrame'>\n",
      "RangeIndex: 176447 entries, 0 to 176446\n",
      "Data columns (total 9 columns):\n",
      " #   Column     Non-Null Count   Dtype\n",
      "---  ------     --------------   -----\n",
      " 0   dpkts      176447 non-null  int64\n",
      " 1   doctets    176447 non-null  int64\n",
      " 2   input      176447 non-null  int64\n",
      " 3   output     176447 non-null  int64\n",
      " 4   srcport    176447 non-null  int64\n",
      " 5   dstport    176447 non-null  int64\n",
      " 6   prot       176447 non-null  int64\n",
      " 7   tos        176447 non-null  int64\n",
      " 8   tcp_flags  176447 non-null  int64\n",
      "dtypes: int64(9)\n",
      "memory usage: 12.1 MB\n"
     ]
    }
   ],
   "source": [
    "malicious_data.info()"
   ]
  },
  {
   "cell_type": "code",
   "execution_count": 5,
   "id": "10b4d011",
   "metadata": {},
   "outputs": [
    {
     "name": "stdout",
     "output_type": "stream",
     "text": [
      "<class 'pandas.core.frame.DataFrame'>\n",
      "RangeIndex: 176447 entries, 0 to 176446\n",
      "Data columns (total 9 columns):\n",
      " #   Column     Non-Null Count   Dtype\n",
      "---  ------     --------------   -----\n",
      " 0   dpkts      176447 non-null  int64\n",
      " 1   doctets    176447 non-null  int64\n",
      " 2   input      176447 non-null  int64\n",
      " 3   output     176447 non-null  int64\n",
      " 4   srcport    176447 non-null  int64\n",
      " 5   dstport    176447 non-null  int64\n",
      " 6   prot       176447 non-null  int64\n",
      " 7   tos        176447 non-null  int64\n",
      " 8   tcp_flags  176447 non-null  int64\n",
      "dtypes: int64(9)\n",
      "memory usage: 12.1 MB\n"
     ]
    }
   ],
   "source": [
    "non_malicious_data.info()"
   ]
  },
  {
   "cell_type": "markdown",
   "id": "e61fed15",
   "metadata": {},
   "source": [
    "# Clasificación\n"
   ]
  },
  {
   "cell_type": "code",
   "execution_count": 6,
   "id": "c1dbea8a",
   "metadata": {},
   "outputs": [],
   "source": [
    "from sklearn.model_selection import train_test_split\n",
    "from sklearn.neighbors import KNeighborsClassifier\n",
    "from sklearn.linear_model import LogisticRegression\n",
    "from sklearn.svm import LinearSVC\n",
    "from sklearn.linear_model import Perceptron\n",
    "from sklearn.ensemble import RandomForestClassifier\n",
    "from sklearn.metrics import classification_report\n",
    "from sklearn.metrics import accuracy_score, recall_score, precision_score, f1_score, roc_auc_score\n",
    "from sklearn.metrics import confusion_matrix, ConfusionMatrixDisplay\n"
   ]
  },
  {
   "cell_type": "code",
   "execution_count": 7,
   "id": "ec032d14",
   "metadata": {},
   "outputs": [],
   "source": [
    "\n",
    "# Agregar una columna de etiquetas a cada conjunto de datos\n",
    "malicious_data['etiqueta'] = 1\n",
    "non_malicious_data['etiqueta'] = 0\n",
    "# Combinar los conjuntos de datos y mezclarlos aleatoriamente\n",
    "datos = pd.concat([malicious_data, non_malicious_data]).sample(frac=1, random_state=2)\n",
    "\n",
    "X = datos.drop('etiqueta', axis=1)\n",
    "y = datos['etiqueta']\n",
    "# Dividir el conjunto de datos en conjuntos de entrenamiento y prueba\n",
    "X_train, X_test, y_train, y_test = train_test_split(X, y, test_size=0.2, random_state=3)\n",
    "\n",
    "from sklearn.preprocessing import MinMaxScaler\n",
    "# Inicializa el escalador\n",
    "scaler = MinMaxScaler()\n",
    "\n",
    "# Ajusta el escalador a los datos de entrenamiento y luego transforma los datos de entrenamiento\n",
    "X_train = scaler.fit_transform(X_train)\n",
    "\n",
    "# Usa el escalador ajustado para transformar los datos de prueba\n",
    "X_test = scaler.transform(X_test)\n",
    "\n"
   ]
  },
  {
   "cell_type": "code",
   "execution_count": 8,
   "id": "85ddf70e",
   "metadata": {},
   "outputs": [],
   "source": [
    "\n",
    "def evaluate_classification_model(y_true, y_pred):\n",
    "    # Calcular la precisión del modelo\n",
    "    accuracy = accuracy_score(y_true, y_pred)\n",
    "    print('Precisión del modelo: {:.2f}%'.format(accuracy * 100))\n",
    "    \n",
    "    # Recall\n",
    "    recall = recall_score(y_true, y_pred)\n",
    "    print('Recall: {:.2f}%'.format(recall * 100))\n",
    "    \n",
    "    # Precisión\n",
    "    precision = precision_score(y_true, y_pred)\n",
    "    print('Precisión: {:.2f}%'.format(precision * 100))\n",
    "    \n",
    "    # F1 Score\n",
    "    f1 = f1_score(y_true, y_pred)\n",
    "    print('F1 Score: {:.2f}%'.format(f1 * 100))\n",
    "\n",
    "    # Imprimir matriz de confusión\n",
    "    cm = confusion_matrix(y_true, y_pred)\n",
    "    cmd = ConfusionMatrixDisplay(confusion_matrix=cm, display_labels=[\"No malicioso\", \"Malicioso\"])\n",
    "    \n",
    "    # Dibujar la matriz de confusión\n",
    "    fig, ax = plt.subplots(figsize=(5, 5))\n",
    "    cmd.plot(ax=ax, cmap=plt.cm.Blues)\n",
    "    plt.show()"
   ]
  },
  {
   "cell_type": "code",
   "execution_count": 9,
   "id": "5d5f8dc4",
   "metadata": {},
   "outputs": [],
   "source": [
    "from sklearn.model_selection import cross_val_predict\n",
    "from sklearn.metrics import confusion_matrix, ConfusionMatrixDisplay\n",
    "import matplotlib.pyplot as plt\n",
    "from sklearn.metrics import accuracy_score, precision_score, recall_score, f1_score\n",
    "\n",
    "# Función para evaluar el modelo sin CV\n",
    "def evaluate_classification_model_no_cv(model, X_test, y_test):\n",
    "    # Realizar predicciones con el modelo\n",
    "    y_pred = model.predict(X_test)\n",
    "\n",
    "    # Calcular la precisión del modelo\n",
    "    accuracy = accuracy_score(y_test, y_pred)\n",
    "    print('Precisión del modelo sin CV: {:.2f}%'.format(accuracy * 100))\n",
    "    \n",
    "    # Recall\n",
    "    recall = recall_score(y_test, y_pred)\n",
    "    print('Recall sin CV: {:.2f}%'.format(recall * 100))\n",
    "    \n",
    "    # Precisión\n",
    "    precision = precision_score(y_test, y_pred)\n",
    "    print('Precisión sin CV: {:.2f}%'.format(precision * 100))\n",
    "    \n",
    "    # F1 Score\n",
    "    f1 = f1_score(y_test, y_pred)\n",
    "    print('F1 Score sin CV: {:.2f}%'.format(f1 * 100))\n",
    "\n",
    "    # Imprimir matriz de confusión\n",
    "    cm = confusion_matrix(y_test, y_pred)\n",
    "    cmd = ConfusionMatrixDisplay(confusion_matrix=cm, display_labels=[\"No malicioso\", \"Malicioso\"])\n",
    "    \n",
    "    # Dibujar la matriz de confusión\n",
    "    fig, ax = plt.subplots(figsize=(5, 5))\n",
    "    cmd.plot(ax=ax, cmap=plt.cm.Blues)\n",
    "    plt.show()\n",
    "\n",
    "# Función para evaluar el modelo con CV\n",
    "def evaluate_classification_model_with_cv(model, X, y, cv=5):\n",
    "    # Realiza la validación cruzada y obtén las predicciones\n",
    "    y_pred = cross_val_predict(model, X, y, cv=cv)\n",
    "\n",
    "    # Calcular la precisión del modelo\n",
    "    accuracy = accuracy_score(y, y_pred)\n",
    "    print('Precisión del modelo con CV: {:.2f}%'.format(accuracy * 100))\n",
    "    \n",
    "    # Recall\n",
    "    recall = recall_score(y, y_pred)\n",
    "    print('Recall con CV: {:.2f}%'.format(recall * 100))\n",
    "    \n",
    "    # Precisión\n",
    "    precision = precision_score(y, y_pred)\n",
    "    print('Precisión con CV: {:.2f}%'.format(precision * 100))\n",
    "    \n",
    "    # F1 Score\n",
    "    f1 = f1_score(y, y_pred)\n",
    "    print('F1 Score con CV: {:.2f}%'.format(f1 * 100))\n",
    "\n",
    "    # Imprimir matriz de confusión\n",
    "    cm = confusion_matrix(y, y_pred)\n",
    "    cmd = ConfusionMatrixDisplay(confusion_matrix=cm, display_labels=[\"No malicioso\", \"Malicioso\"])\n",
    "    \n",
    "    # Dibujar la matriz de confusión\n",
    "    fig, ax = plt.subplots(figsize=(5, 5))\n",
    "    cmd.plot(ax=ax, cmap=plt.cm.Blues)\n",
    "    plt.show()\n",
    "\n"
   ]
  },
  {
   "cell_type": "markdown",
   "id": "50c97959",
   "metadata": {},
   "source": [
    "# KNeighbors"
   ]
  },
  {
   "cell_type": "code",
   "execution_count": 10,
   "id": "7121f7f5",
   "metadata": {},
   "outputs": [
    {
     "data": {
      "text/plain": [
       "\"from sklearn.model_selection import GridSearchCV\\nfrom sklearn.neighbors import KNeighborsClassifier\\nfrom sklearn.metrics import accuracy_score\\n\\n# Definir los hiperparámetros y sus posibles valores para la búsqueda\\nparam_grid = {\\n    'n_neighbors': [1, 3, 5, 7, 9, 11], # n_neighbors es el número de vecinos a considerar para las predicciones\\n    'weights': ['uniform', 'distance'], # weights define cómo se ponderan los vecinos en la decisión (todos iguales con 'uniform' o los más cercanos tienen más peso con 'distance')\\n    'metric': ['euclidean', 'manhattan', 'minkowski', 'chebyshev'],# metric es la medida de distancia a usar\\n    'algorithm': ['ball_tree', 'kd_tree', 'brute', 'auto'],   # algorithm es el algoritmo para calcular los vecinos más cercanos                            \\n}\\n\\n# Crear una instancia del modelo KNeighborsClassifier\\nmodel = KNeighborsClassifier()\\n\\n# Aplicar Grid Search\\ngrid_search = GridSearchCV(model, param_grid, cv=5)\\ngrid_search.fit(X_train, y_train)\\n\\n# Obtener los mejores hiperparámetros y puntuaciones\\nbest_params = grid_search.best_params_\\nbest_score = grid_search.best_score_\\n\\n# Crear un nuevo modelo con los mejores hiperparámetros y ajustar los datos\\nbest_model = KNeighborsClassifier(**best_params)\\nbest_model.fit(X_train, y_train)\\n\\n# Realizar predicciones y evaluar el modelo\\npredictions = best_model.predict(X_test)\\naccuracy = accuracy_score(y_test, predictions)\\n\\nprint('Mejores hiperparámetros encontrados:', best_params)\\nprint('Precisión del modelo con los mejores hiperparámetros: {:.8f}'.format(accuracy))\\nfrom sklearn.neighbors import KNeighborsClassifier\\n\\n# Crear una instancia del modelo KNeighborsClassifier con los mejores hiperparámetros\\nbest_model1 = KNeighborsClassifier(**best_params)\\n\\n# Ajustar los datos de entrenamiento con el nuevo modelo\\nbest_model1.fit(X_train, y_train)\\n\\n# Realizar predicciones utilizando el modelo ajustado\\npredictions = best_model1.predict(X_test)\\n\\n# Evaluar el modelo con las predicciones obtenidas\\nevaluate_classification_model(y_test, predictions)\\n\""
      ]
     },
     "execution_count": 10,
     "metadata": {},
     "output_type": "execute_result"
    }
   ],
   "source": [
    "\"\"\"from sklearn.model_selection import GridSearchCV\n",
    "from sklearn.neighbors import KNeighborsClassifier\n",
    "from sklearn.metrics import accuracy_score\n",
    "\n",
    "# Definir los hiperparámetros y sus posibles valores para la búsqueda\n",
    "param_grid = {\n",
    "    'n_neighbors': [1, 3, 5, 7, 9, 11], # n_neighbors es el número de vecinos a considerar para las predicciones\n",
    "    'weights': ['uniform', 'distance'], # weights define cómo se ponderan los vecinos en la decisión (todos iguales con 'uniform' o los más cercanos tienen más peso con 'distance')\n",
    "    'metric': ['euclidean', 'manhattan', 'minkowski', 'chebyshev'],# metric es la medida de distancia a usar\n",
    "    'algorithm': ['ball_tree', 'kd_tree', 'brute', 'auto'],   # algorithm es el algoritmo para calcular los vecinos más cercanos                            \n",
    "}\n",
    "\n",
    "# Crear una instancia del modelo KNeighborsClassifier\n",
    "model = KNeighborsClassifier()\n",
    "\n",
    "# Aplicar Grid Search\n",
    "grid_search = GridSearchCV(model, param_grid, cv=5)\n",
    "grid_search.fit(X_train, y_train)\n",
    "\n",
    "# Obtener los mejores hiperparámetros y puntuaciones\n",
    "best_params = grid_search.best_params_\n",
    "best_score = grid_search.best_score_\n",
    "\n",
    "# Crear un nuevo modelo con los mejores hiperparámetros y ajustar los datos\n",
    "best_model = KNeighborsClassifier(**best_params)\n",
    "best_model.fit(X_train, y_train)\n",
    "\n",
    "# Realizar predicciones y evaluar el modelo\n",
    "predictions = best_model.predict(X_test)\n",
    "accuracy = accuracy_score(y_test, predictions)\n",
    "\n",
    "print('Mejores hiperparámetros encontrados:', best_params)\n",
    "print('Precisión del modelo con los mejores hiperparámetros: {:.8f}'.format(accuracy))\n",
    "from sklearn.neighbors import KNeighborsClassifier\n",
    "\n",
    "# Crear una instancia del modelo KNeighborsClassifier con los mejores hiperparámetros\n",
    "best_model1 = KNeighborsClassifier(**best_params)\n",
    "\n",
    "# Ajustar los datos de entrenamiento con el nuevo modelo\n",
    "best_model1.fit(X_train, y_train)\n",
    "\n",
    "# Realizar predicciones utilizando el modelo ajustado\n",
    "predictions = best_model1.predict(X_test)\n",
    "\n",
    "# Evaluar el modelo con las predicciones obtenidas\n",
    "evaluate_classification_model(y_test, predictions)\n",
    "\"\"\"\n",
    "\n",
    "\n"
   ]
  },
  {
   "cell_type": "code",
   "execution_count": 11,
   "id": "cb5a23fe",
   "metadata": {},
   "outputs": [
    {
     "name": "stdout",
     "output_type": "stream",
     "text": [
      "Precisión del modelo sin CV: 99.78%\n",
      "Recall sin CV: 99.68%\n",
      "Precisión sin CV: 99.88%\n",
      "F1 Score sin CV: 99.78%\n"
     ]
    },
    {
     "data": {
      "image/png": "[encoded data removed]",
      "text/plain": [
       "<Figure size 500x500 with 2 Axes>"
      ]
     },
     "metadata": {},
     "output_type": "display_data"
    },
    {
     "name": "stdout",
     "output_type": "stream",
     "text": [
      "Precisión del modelo con CV: 99.32%\n",
      "Recall con CV: 99.00%\n",
      "Precisión con CV: 99.64%\n",
      "F1 Score con CV: 99.32%\n"
     ]
    },
    {
     "data": {
      "image/png": "[encoded data removed]",
      "text/plain": [
       "<Figure size 500x500 with 2 Axes>"
      ]
     },
     "metadata": {},
     "output_type": "display_data"
    }
   ],
   "source": [
    "model = KNeighborsClassifier()\n",
    "\n",
    "# Se entrena el modelo con los datos de entrenamiento\n",
    "model.fit(X_train, y_train)\n",
    "\n",
    "\n",
    "# Evaluación sin CV\n",
    "evaluate_classification_model_no_cv(model, X_test, y_test)\n",
    "\n",
    "# Evaluación con CV\n",
    "\n",
    "evaluate_classification_model_with_cv(model, X, y, cv=5)\n"
   ]
  },
  {
   "cell_type": "markdown",
   "id": "83fce265",
   "metadata": {},
   "source": [
    "# LogisticRegression"
   ]
  },
  {
   "cell_type": "code",
   "execution_count": 12,
   "id": "daab7a5f",
   "metadata": {},
   "outputs": [
    {
     "data": {
      "text/plain": [
       "\"from sklearn.model_selection import GridSearchCV\\nfrom sklearn.linear_model import LogisticRegression\\nfrom sklearn.metrics import accuracy_score\\n\\n# Definir los hiperparámetros y sus posibles valores para la búsqueda\\nparam_grid = {\\n    'penalty': ['l1', 'l2'],                       # Tipo de regularización a aplicar\\n    'C': [0.1, 1, 10],                              # Parámetro de regularización (inverso de la fuerza de regularización)\\n    'solver': ['liblinear', 'saga'],                # Algoritmo de solución\\n    'max_iter': [1000, 2000, 3000]                  # Número máximo de iteraciones\\n}\\n\\n\\n# Crear una instancia del modelo LogisticRegression\\nmodel = LogisticRegression()\\n\\n# Aplicar Grid Search\\ngrid_search = GridSearchCV(model, param_grid, cv=5)\\ngrid_search.fit(X_train, y_train)\\n\\n# Obtener los mejores hiperparámetros y puntuaciones\\nbest_params = grid_search.best_params_\\nbest_score = grid_search.best_score_\\n\\n# Crear un nuevo modelo con los mejores hiperparámetros y ajustar los datos\\nbest_model = LogisticRegression(**best_params)\\nbest_model.fit(X_train, y_train)\\n\\n# Realizar predicciones y evaluar el modelo\\npredictions = best_model.predict(X_test)\\naccuracy = accuracy_score(y_test, predictions)\\n\\nprint('Mejores hiperparámetros encontrados:', best_params)\\nprint('Precisión del modelo con los mejores hiperparámetros: {:.8f}'.format(accuracy))\\nfrom sklearn.linear_model import LogisticRegression\\nfrom sklearn.metrics import accuracy_score, recall_score, precision_score, f1_score, confusion_matrix, ConfusionMatrixDisplay\\nimport matplotlib.pyplot as plt\\n\\n# Crear una instancia del modelo LogisticRegression con los mejores hiperparámetros\\nbest_model2 = LogisticRegression(**best_params)\\n\\n# Ajustar los datos de entrenamiento con el nuevo modelo\\nbest_model2.fit(X_train, y_train)\\n\\n# Realizar predicciones utilizando el modelo ajustado\\npredictions = best_model2.predict(X_test)\\n\\n# Evaluar el modelo con las predicciones obtenidas\\nevaluate_classification_model(y_test, predictions)\""
      ]
     },
     "execution_count": 12,
     "metadata": {},
     "output_type": "execute_result"
    }
   ],
   "source": [
    "\"\"\"from sklearn.model_selection import GridSearchCV\n",
    "from sklearn.linear_model import LogisticRegression\n",
    "from sklearn.metrics import accuracy_score\n",
    "\n",
    "# Definir los hiperparámetros y sus posibles valores para la búsqueda\n",
    "param_grid = {\n",
    "    'penalty': ['l1', 'l2'],                       # Tipo de regularización a aplicar\n",
    "    'C': [0.1, 1, 10],                              # Parámetro de regularización (inverso de la fuerza de regularización)\n",
    "    'solver': ['liblinear', 'saga'],                # Algoritmo de solución\n",
    "    'max_iter': [1000, 2000, 3000]                  # Número máximo de iteraciones\n",
    "}\n",
    "\n",
    "\n",
    "# Crear una instancia del modelo LogisticRegression\n",
    "model = LogisticRegression()\n",
    "\n",
    "# Aplicar Grid Search\n",
    "grid_search = GridSearchCV(model, param_grid, cv=5)\n",
    "grid_search.fit(X_train, y_train)\n",
    "\n",
    "# Obtener los mejores hiperparámetros y puntuaciones\n",
    "best_params = grid_search.best_params_\n",
    "best_score = grid_search.best_score_\n",
    "\n",
    "# Crear un nuevo modelo con los mejores hiperparámetros y ajustar los datos\n",
    "best_model = LogisticRegression(**best_params)\n",
    "best_model.fit(X_train, y_train)\n",
    "\n",
    "# Realizar predicciones y evaluar el modelo\n",
    "predictions = best_model.predict(X_test)\n",
    "accuracy = accuracy_score(y_test, predictions)\n",
    "\n",
    "print('Mejores hiperparámetros encontrados:', best_params)\n",
    "print('Precisión del modelo con los mejores hiperparámetros: {:.8f}'.format(accuracy))\n",
    "from sklearn.linear_model import LogisticRegression\n",
    "from sklearn.metrics import accuracy_score, recall_score, precision_score, f1_score, confusion_matrix, ConfusionMatrixDisplay\n",
    "import matplotlib.pyplot as plt\n",
    "\n",
    "# Crear una instancia del modelo LogisticRegression con los mejores hiperparámetros\n",
    "best_model2 = LogisticRegression(**best_params)\n",
    "\n",
    "# Ajustar los datos de entrenamiento con el nuevo modelo\n",
    "best_model2.fit(X_train, y_train)\n",
    "\n",
    "# Realizar predicciones utilizando el modelo ajustado\n",
    "predictions = best_model2.predict(X_test)\n",
    "\n",
    "# Evaluar el modelo con las predicciones obtenidas\n",
    "evaluate_classification_model(y_test, predictions)\"\"\"\n"
   ]
  },
  {
   "cell_type": "code",
   "execution_count": 13,
   "id": "04fde1e9",
   "metadata": {},
   "outputs": [
    {
     "name": "stdout",
     "output_type": "stream",
     "text": [
      "Precisión del modelo sin CV: 85.98%\n",
      "Recall sin CV: 74.53%\n",
      "Precisión sin CV: 96.72%\n",
      "F1 Score sin CV: 84.19%\n"
     ]
    },
    {
     "data": {
      "image/png": "[encoded data removed]",
      "text/plain": [
       "<Figure size 500x500 with 2 Axes>"
      ]
     },
     "metadata": {},
     "output_type": "display_data"
    },
    {
     "name": "stdout",
     "output_type": "stream",
     "text": [
      "Precisión del modelo con CV: 100.00%\n",
      "Recall con CV: 100.00%\n",
      "Precisión con CV: 100.00%\n",
      "F1 Score con CV: 100.00%\n"
     ]
    },
    {
     "data": {
      "image/png": "[encoded data removed]",
      "text/plain": [
       "<Figure size 500x500 with 2 Axes>"
      ]
     },
     "metadata": {},
     "output_type": "display_data"
    }
   ],
   "source": [
    "model = LogisticRegression(max_iter=1000)\n",
    "# Se entrena el modelo con los datos de entrenamiento\n",
    "model.fit(X_train, y_train)\n",
    "\n",
    "# Evaluación sin CV\n",
    "evaluate_classification_model_no_cv(model, X_test, y_test)\n",
    "\n",
    "# Evaluación con CV\n",
    "\n",
    "evaluate_classification_model_with_cv(model, X, y, cv=5)"
   ]
  },
  {
   "cell_type": "markdown",
   "id": "d26637b3",
   "metadata": {},
   "source": [
    "# LinearSVC"
   ]
  },
  {
   "cell_type": "code",
   "execution_count": 14,
   "id": "184479e4",
   "metadata": {},
   "outputs": [
    {
     "data": {
      "text/plain": [
       "\"from sklearn.model_selection import GridSearchCV\\nfrom sklearn.svm import LinearSVC\\nfrom sklearn.metrics import accuracy_score\\n\\n# Definir los hiperparámetros y sus posibles valores para la búsqueda\\nparam_grid = {\\n    'penalty': ['l1', 'l2'],             # Tipo de regularización a aplicar\\n    'C': [0.1, 1, 10],                   # Parámetro de regularización (inverso de la fuerza de regularización)\\n    'max_iter': [1000, 2000, 3000]       # Número máximo de iteraciones\\n}\\n\\n# Crear una instancia del modelo LinearSVC\\nmodel = LinearSVC()\\n\\n# Aplicar Grid Search\\ngrid_search = GridSearchCV(model, param_grid, cv=5)\\ngrid_search.fit(X_train, y_train)\\n\\n# Obtener los mejores hiperparámetros y puntuaciones\\nbest_params = grid_search.best_params_\\nbest_score = grid_search.best_score_\\n\\n# Crear un nuevo modelo con los mejores hiperparámetros y ajustar los datos\\nbest_model = LinearSVC(**best_params)\\nbest_model.fit(X_train, y_train)\\n\\n# Realizar predicciones y evaluar el modelo\\npredictions = best_model.predict(X_test)\\naccuracy = accuracy_score(y_test, predictions)\\n\\nprint('Mejores hiperparámetros encontrados:', best_params)\\nprint('Precisión del modelo con los mejores hiperparámetros: {:.8f}'.format(accuracy))\\nfrom sklearn.svm import LinearSVC\\nfrom sklearn.metrics import accuracy_score, recall_score, precision_score, f1_score, confusion_matrix, ConfusionMatrixDisplay\\nimport matplotlib.pyplot as plt\\n\\n# Crear una instancia del modelo LinearSVC con los mejores hiperparámetros\\nbest_model3 = LinearSVC(**best_params)\\n\\n# Ajustar los datos de entrenamiento con el nuevo modelo\\nbest_model3.fit(X_train, y_train)\\n\\n# Realizar predicciones utilizando el modelo ajustado\\npredictions = best_model3.predict(X_test)\\n\\nevaluate_classification_model(y_test, predictions)\\n\""
      ]
     },
     "execution_count": 14,
     "metadata": {},
     "output_type": "execute_result"
    }
   ],
   "source": [
    "\"\"\"from sklearn.model_selection import GridSearchCV\n",
    "from sklearn.svm import LinearSVC\n",
    "from sklearn.metrics import accuracy_score\n",
    "\n",
    "# Definir los hiperparámetros y sus posibles valores para la búsqueda\n",
    "param_grid = {\n",
    "    'penalty': ['l1', 'l2'],             # Tipo de regularización a aplicar\n",
    "    'C': [0.1, 1, 10],                   # Parámetro de regularización (inverso de la fuerza de regularización)\n",
    "    'max_iter': [1000, 2000, 3000]       # Número máximo de iteraciones\n",
    "}\n",
    "\n",
    "# Crear una instancia del modelo LinearSVC\n",
    "model = LinearSVC()\n",
    "\n",
    "# Aplicar Grid Search\n",
    "grid_search = GridSearchCV(model, param_grid, cv=5)\n",
    "grid_search.fit(X_train, y_train)\n",
    "\n",
    "# Obtener los mejores hiperparámetros y puntuaciones\n",
    "best_params = grid_search.best_params_\n",
    "best_score = grid_search.best_score_\n",
    "\n",
    "# Crear un nuevo modelo con los mejores hiperparámetros y ajustar los datos\n",
    "best_model = LinearSVC(**best_params)\n",
    "best_model.fit(X_train, y_train)\n",
    "\n",
    "# Realizar predicciones y evaluar el modelo\n",
    "predictions = best_model.predict(X_test)\n",
    "accuracy = accuracy_score(y_test, predictions)\n",
    "\n",
    "print('Mejores hiperparámetros encontrados:', best_params)\n",
    "print('Precisión del modelo con los mejores hiperparámetros: {:.8f}'.format(accuracy))\n",
    "from sklearn.svm import LinearSVC\n",
    "from sklearn.metrics import accuracy_score, recall_score, precision_score, f1_score, confusion_matrix, ConfusionMatrixDisplay\n",
    "import matplotlib.pyplot as plt\n",
    "\n",
    "# Crear una instancia del modelo LinearSVC con los mejores hiperparámetros\n",
    "best_model3 = LinearSVC(**best_params)\n",
    "\n",
    "# Ajustar los datos de entrenamiento con el nuevo modelo\n",
    "best_model3.fit(X_train, y_train)\n",
    "\n",
    "# Realizar predicciones utilizando el modelo ajustado\n",
    "predictions = best_model3.predict(X_test)\n",
    "\n",
    "evaluate_classification_model(y_test, predictions)\n",
    "\"\"\"\n"
   ]
  },
  {
   "cell_type": "code",
   "execution_count": null,
   "id": "88fb353e",
   "metadata": {},
   "outputs": [],
   "source": [
    "\n",
    "model = LinearSVC(max_iter=1000)\n",
    "# Se entrena el modelo con los datos de entrenamiento\n",
    "model.fit(X_train, y_train)\n",
    "\n",
    "# Evaluación sin CV\n",
    "evaluate_classification_model_no_cv(model, X_test, y_test)\n",
    "\n",
    "# Evaluación con CV\n",
    "\n",
    "evaluate_classification_model_with_cv(model, X, y, cv=5)"
   ]
  },
  {
   "cell_type": "markdown",
   "id": "f752df59",
   "metadata": {},
   "source": [
    "# Perceptron"
   ]
  },
  {
   "cell_type": "code",
   "execution_count": null,
   "id": "36aeba65",
   "metadata": {},
   "outputs": [],
   "source": [
    "\"\"\"from sklearn.model_selection import GridSearchCV\n",
    "from sklearn.linear_model import Perceptron\n",
    "from sklearn.metrics import accuracy_score\n",
    "\n",
    "# Definir los hiperparámetros y sus posibles valores para la búsqueda\n",
    "param_grid = {\n",
    "    'penalty': [None, 'l1', 'l2', 'elasticnet'],   # Tipo de regularización a aplicar\n",
    "    'alpha': [0.0001, 0.001, 0.01],           # Tasa de regularización\n",
    "    'max_iter': [10, 100, 1000],                # Número máximo de iteraciones\n",
    "    'eta0': [0.1, 0.01, 0.001],                     # Tasa de aprendizaje inicial\n",
    "    'early_stopping': [True, False],\n",
    "    \n",
    "}\n",
    "\n",
    "# Crear una instancia del modelo Perceptron\n",
    "model = Perceptron(random_state=42)\n",
    "\n",
    "# Aplicar Grid Search\n",
    "grid_search = GridSearchCV(model, param_grid, cv=5)\n",
    "grid_search.fit(X_train, y_train)\n",
    "\n",
    "# Obtener los mejores hiperparámetros y puntuaciones\n",
    "best_params = grid_search.best_params_\n",
    "best_score = grid_search.best_score_\n",
    "\n",
    "# Crear un nuevo modelo con los mejores hiperparámetros y ajustar los datos\n",
    "best_model = Perceptron(**best_params)\n",
    "best_model.fit(X_train, y_train)\n",
    "\n",
    "# Realizar predicciones y evaluar el modelo\n",
    "predictions = best_model.predict(X_test)\n",
    "accuracy = accuracy_score(y_test, predictions)\n",
    "\n",
    "print('Mejores hiperparámetros encontrados:', best_params)\n",
    "print('Precisión del modelo con los mejores hiperparámetros: {:.8f}'.format(accuracy))\n",
    "# Crear una instancia del modelo Perceptron con los mejores hiperparámetros\n",
    "best_model4 = Perceptron(**best_params,random_state=42)\n",
    "\n",
    "# Ajustar los datos de entrenamiento con el nuevo modelo\n",
    "best_model4.fit(X_train, y_train)\n",
    "\n",
    "# Realizar predicciones utilizando el modelo ajustado\n",
    "predictions = best_model4.predict(X_test)\n",
    "\n",
    "evaluate_classification_model(y_test, predictions)\n",
    "\"\"\"\n"
   ]
  },
  {
   "cell_type": "code",
   "execution_count": null,
   "id": "56f38dc3",
   "metadata": {},
   "outputs": [],
   "source": [
    "import matplotlib.pyplot as plt\n",
    "\n",
    "model = Perceptron(random_state=42)\n",
    "# Se entrena el modelo con los datos de entrenamiento\n",
    "model.fit(X_train, y_train)\n",
    "\n",
    "# Evaluación sin CV\n",
    "evaluate_classification_model_no_cv(model, X_test, y_test)\n",
    "\n",
    "# Evaluación con CV\n",
    "\n",
    "evaluate_classification_model_with_cv(model, X, y, cv=5)"
   ]
  },
  {
   "cell_type": "markdown",
   "id": "57014b28",
   "metadata": {},
   "source": [
    "# RandomForestClassifier"
   ]
  },
  {
   "cell_type": "code",
   "execution_count": null,
   "id": "869d304b",
   "metadata": {},
   "outputs": [],
   "source": [
    "\"\"\"from sklearn.model_selection import GridSearchCV\n",
    "from sklearn.ensemble import RandomForestClassifier\n",
    "from sklearn.metrics import accuracy_score\n",
    "from sklearn.model_selection import cross_val_score\n",
    "\n",
    "# Desactivar las advertencias\n",
    "#warnings.filterwarnings(\"ignore\")\n",
    "\n",
    "# Definir los hiperparámetros y sus posibles valores para la búsqueda\n",
    "param_grid = {\n",
    "    'bootstrap': [True],\n",
    "    'max_depth': [80, 90, 100, 110],\n",
    "    'max_features': [2, 3],\n",
    "    'min_samples_leaf': [3, 4, 5],\n",
    "    'min_samples_split': [8, 10, 12],\n",
    "    'n_estimators': [100, 200, 300, 1000]\n",
    "}\n",
    "\n",
    "# Crear una instancia del modelo RandomForestClassifier\n",
    "model = RandomForestClassifier()\n",
    "\n",
    "# Aplicar Grid Search con validación cruzada\n",
    "grid_search = GridSearchCV(estimator = model, param_grid = param_grid,cv = 3, n_jobs = -1, verbose = 2)\n",
    "grid_search.fit(X_train, y_train)\n",
    "\n",
    "# Obtener los mejores hiperparámetros y puntuaciones\n",
    "best_params = grid_search.best_params_\n",
    "best_score = grid_search.best_score_\n",
    "\n",
    "# Crear un nuevo modelo con los mejores hiperparámetros y ajustar los datos\n",
    "best_model = RandomForestClassifier(**best_params)\n",
    "best_model.fit(X_train, y_train)\n",
    "\n",
    "# Realizar predicciones y evaluar el modelo\n",
    "predictions = best_model.predict(X_test)\n",
    "accuracy = accuracy_score(y_test, predictions)\n",
    "\n",
    "# Realizar validación cruzada en el mejor modelo\n",
    "cv_scores = cross_val_score(best_model, X_train, y_train, cv=5, scoring='accuracy')\n",
    "cv_mean_score = cv_scores.mean()\n",
    "\n",
    "print('Mejores hiperparámetros encontrados:', best_params)\n",
    "print('Precisión del modelo con los mejores hiperparámetros: {:.8f}'.format(accuracy))\n",
    "print('Precisión media de validación cruzada:', cv_mean_score)\n",
    "from sklearn.ensemble import RandomForestClassifier\n",
    "from sklearn.metrics import accuracy_score, recall_score, precision_score, f1_score, confusion_matrix, classification_report\n",
    "from sklearn.metrics import ConfusionMatrixDisplay\n",
    "import numpy as np\n",
    "import matplotlib.pyplot as plt\n",
    "\n",
    "# Crear una instancia del modelo RandomForestClassifier con los mejores hiperparámetros\n",
    "best_model5 = RandomForestClassifier(**best_params)\n",
    "\n",
    "# Se entrena el modelo con los datos de entrenamiento\n",
    "best_model5.fit(X_train, y_train)\n",
    "\n",
    "# Se hacen predicciones con los datos de prueba\n",
    "predictions = best_model5.predict(X_test)\n",
    "\n",
    "evaluate_classification_model(y_test, predictions)\n",
    "\"\"\"\n"
   ]
  },
  {
   "cell_type": "code",
   "execution_count": null,
   "id": "2c1abdd5",
   "metadata": {},
   "outputs": [],
   "source": [
    "model = RandomForestClassifier()\n",
    "# Se entrena el modelo con los datos de entrenamiento\n",
    "model.fit(X_train, y_train)\n",
    "\n",
    "# Evaluación sin CV\n",
    "evaluate_classification_model_no_cv(model, X_test, y_test)\n",
    "\n",
    "# Evaluación con CV\n",
    "\n",
    "evaluate_classification_model_with_cv(model, X, y, cv=5)"
   ]
  },
  {
   "cell_type": "markdown",
   "id": "a51fe295",
   "metadata": {},
   "source": [
    "# Decision tree"
   ]
  },
  {
   "cell_type": "code",
   "execution_count": null,
   "id": "ea979a35",
   "metadata": {},
   "outputs": [],
   "source": [
    "from sklearn.tree import DecisionTreeClassifier\n",
    "\n",
    "# Crear el modelo de árbol de decisión\n",
    "model = DecisionTreeClassifier()\n",
    "\n",
    "# Entrenar el modelo con los datos de entrenamiento\n",
    "model.fit(X_train, y_train)\n",
    "\n",
    "# Evaluación sin CV\n",
    "evaluate_classification_model_no_cv(model, X_test, y_test)\n",
    "\n",
    "# Evaluación con CV\n",
    "\n",
    "evaluate_classification_model_with_cv(model, X, y, cv=5)\n",
    "\n"
   ]
  },
  {
   "cell_type": "markdown",
   "id": "b333e25f",
   "metadata": {},
   "source": [
    "# AdaBoost"
   ]
  },
  {
   "cell_type": "code",
   "execution_count": null,
   "id": "d6c82a19",
   "metadata": {},
   "outputs": [],
   "source": [
    "from sklearn.ensemble import AdaBoostClassifier\n",
    "\n",
    "# Crear el modelo Adaboost\n",
    "model = AdaBoostClassifier()\n",
    "\n",
    "# Entrenar el modelo con los datos de entrenamiento\n",
    "model.fit(X_train, y_train)\n",
    "\n",
    "# Evaluación sin CV\n",
    "evaluate_classification_model_no_cv(model, X_test, y_test)\n",
    "\n",
    "# Evaluación con CV\n",
    "\n",
    "evaluate_classification_model_with_cv(model, X, y, cv=5)\n"
   ]
  },
  {
   "cell_type": "markdown",
   "id": "4c771036",
   "metadata": {},
   "source": [
    "# xgboost"
   ]
  },
  {
   "cell_type": "code",
   "execution_count": null,
   "id": "2627ed6c",
   "metadata": {},
   "outputs": [],
   "source": [
    "import xgboost as xgb\n",
    "\n",
    "# Crear el modelo XGBoost\n",
    "model = xgb.XGBClassifier()\n",
    "\n",
    "# Entrenar el modelo con los datos de entrenamiento\n",
    "model.fit(X_train, y_train)\n",
    "\n",
    "# Evaluación sin CV\n",
    "evaluate_classification_model_no_cv(model, X_test, y_test)\n",
    "\n",
    "# Evaluación con CV\n",
    "\n",
    "evaluate_classification_model_with_cv(model, X, y, cv=5)\n"
   ]
  },
  {
   "cell_type": "markdown",
   "id": "4d6ec5f4",
   "metadata": {},
   "source": [
    "# naive bayes"
   ]
  },
  {
   "cell_type": "code",
   "execution_count": null,
   "id": "cbbfb428",
   "metadata": {},
   "outputs": [],
   "source": [
    "\n",
    "from sklearn.naive_bayes import GaussianNB\n",
    "\n",
    "# Crear el modelo de clasificador Naive Bayes\n",
    "model = GaussianNB()\n",
    "\n",
    "# Entrenar el modelo con los datos de entrenamiento\n",
    "model.fit(X_train, y_train)\n",
    "\n",
    "# Evaluación sin CV\n",
    "evaluate_classification_model_no_cv(model, X_test, y_test)\n",
    "\n",
    "# Evaluación con CV\n",
    "\n",
    "evaluate_classification_model_with_cv(model, X, y, cv=5)"
   ]
  },
  {
   "cell_type": "markdown",
   "id": "ff482ddd",
   "metadata": {},
   "source": [
    "# Ensemble Classifier con votación mayoritaria para mejorar la precisión"
   ]
  },
  {
   "cell_type": "code",
   "execution_count": null,
   "id": "d4bde8a1",
   "metadata": {},
   "outputs": [],
   "source": []
  },
  {
   "cell_type": "code",
   "execution_count": null,
   "id": "e59c5c80",
   "metadata": {},
   "outputs": [],
   "source": [
    "\"\"\"from sklearn.ensemble import VotingClassifier\n",
    "# Crear el ensemble classifier con votación mayoritaria\n",
    "ensemble_model = VotingClassifier(estimators=[('lr', best_model2), ('perceptron', best_model4), ('lsvc', best_model3), ('rf', best_model5), ('knn', best_model1)], voting='hard')\n",
    "\n",
    "# Entrenar el ensemble classifier\n",
    "ensemble_model.fit(X_train, y_train)\n",
    "\n",
    "# Hacer predicciones con el ensemble classifier\n",
    "predictions = ensemble_model.predict(X_test)\n",
    "\n",
    "# Evaluar el rendimiento del ensemble classifier\n",
    "accuracy = accuracy_score(y_test, predictions)\n",
    "print('Precisión del ensemble classifier: {:.2f}%'.format(accuracy * 100))\"\"\""
   ]
  },
  {
   "cell_type": "code",
   "execution_count": null,
   "id": "aa2a7033",
   "metadata": {},
   "outputs": [],
   "source": []
  },
  {
   "cell_type": "code",
   "execution_count": null,
   "id": "ab1b988c",
   "metadata": {},
   "outputs": [],
   "source": []
  },
  {
   "cell_type": "code",
   "execution_count": null,
   "id": "86feb7bd",
   "metadata": {},
   "outputs": [],
   "source": []
  }
 ],
 "metadata": {
  "kernelspec": {
   "display_name": "Python 3 (ipykernel)",
   "language": "python",
   "name": "python3"
  },
  "language_info": {
   "codemirror_mode": {
    "name": "ipython",
    "version": 3
   },
   "file_extension": ".py",
   "mimetype": "text/x-python",
   "name": "python",
   "nbconvert_exporter": "python",
   "pygments_lexer": "ipython3",
   "version": "3.11.3"
  }
 },
 "nbformat": 4,
 "nbformat_minor": 5
}
