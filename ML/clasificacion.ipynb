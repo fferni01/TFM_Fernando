{
 "cells": [
  {
   "cell_type": "markdown",
   "id": "13a22dab",
   "metadata": {},
   "source": [
    "# Setup"
   ]
  },
  {
   "cell_type": "code",
   "execution_count": 1,
   "id": "c281b010",
   "metadata": {},
   "outputs": [],
   "source": [
    "# Python ≥3.5 is required\n",
    "import sys\n",
    "assert sys.version_info >= (3, 5)\n",
    "\n",
    "# Scikit-Learn ≥0.20 is required\n",
    "import sklearn\n",
    "assert sklearn.__version__ >= \"0.20\"\n",
    "\n",
    "# Common imports\n",
    "import numpy as np\n",
    "import os\n",
    "\n",
    "# To plot pretty figures\n",
    "%matplotlib inline\n",
    "import matplotlib as mpl\n",
    "import matplotlib.pyplot as plt\n",
    "mpl.rc('axes', labelsize=14)\n",
    "mpl.rc('xtick', labelsize=12)\n",
    "mpl.rc('ytick', labelsize=12)\n"
   ]
  },
  {
   "cell_type": "markdown",
   "id": "c0fb8916",
   "metadata": {},
   "source": [
    "# creo el cvs a tratar"
   ]
  },
  {
   "cell_type": "code",
   "execution_count": 2,
   "id": "087a2204",
   "metadata": {
    "scrolled": true
   },
   "outputs": [],
   "source": [
    "import pandas as pd\n",
    "malicious_data = pd.read_csv(\"maligno.csv\")\n",
    "non_malicious_data = pd.read_csv(\"good.csv\")"
   ]
  },
  {
   "cell_type": "markdown",
   "id": "935a42a9",
   "metadata": {},
   "source": [
    "# Limpieza de características"
   ]
  },
  {
   "cell_type": "code",
   "execution_count": 3,
   "id": "7d525433",
   "metadata": {},
   "outputs": [],
   "source": [
    "#Elimina datos\n",
    "columnas_a_eliminar = ['exaddr','engine_type','engine_id','dst_mask','src_mask', 'dst_mask','src_as','dst_as','#:unix_secs','unix_nsecs','sysuptime','first','last','nexthop']\n",
    "malicious_data = malicious_data.drop(columnas_a_eliminar, axis=1)\n",
    "non_malicious_data = non_malicious_data.drop(columnas_a_eliminar, axis=1)"
   ]
  },
  {
   "cell_type": "code",
   "execution_count": 4,
   "id": "050ed95f",
   "metadata": {},
   "outputs": [],
   "source": [
    "import socket\n",
    "\n",
    "# Función para convertir direcciones IP en valores enteros\n",
    "def convert_ip_to_int(ip):\n",
    "    try:\n",
    "        return int.from_bytes(socket.inet_aton(ip), byteorder='big')\n",
    "    except OSError:\n",
    "        return ip  # Retorna la dirección IP no válida sin convertir\n",
    "\n",
    "\n"
   ]
  },
  {
   "cell_type": "code",
   "execution_count": 5,
   "id": "4f5ced0e",
   "metadata": {},
   "outputs": [
    {
     "name": "stdout",
     "output_type": "stream",
     "text": [
      "<class 'pandas.core.frame.DataFrame'>\n",
      "RangeIndex: 176447 entries, 0 to 176446\n",
      "Data columns (total 11 columns):\n",
      " #   Column     Non-Null Count   Dtype\n",
      "---  ------     --------------   -----\n",
      " 0   dpkts      176447 non-null  int64\n",
      " 1   doctets    176447 non-null  int64\n",
      " 2   srcaddr    176447 non-null  int64\n",
      " 3   dstaddr    176447 non-null  int64\n",
      " 4   input      176447 non-null  int64\n",
      " 5   output     176447 non-null  int64\n",
      " 6   srcport    176447 non-null  int64\n",
      " 7   dstport    176447 non-null  int64\n",
      " 8   prot       176447 non-null  int64\n",
      " 9   tos        176447 non-null  int64\n",
      " 10  tcp_flags  176447 non-null  int64\n",
      "dtypes: int64(11)\n",
      "memory usage: 14.8 MB\n"
     ]
    }
   ],
   "source": [
    "\n",
    "# Aplicar la función lambda a la columna srcaddr y almacenar los resultados en una nueva columna\n",
    "malicious_data['srcaddr'] = malicious_data['srcaddr'].apply(lambda x: int.from_bytes(socket.inet_aton(x), byteorder='big'))\n",
    "malicious_data['dstaddr'] = malicious_data['dstaddr'].apply(lambda x: int.from_bytes(socket.inet_aton(x), byteorder='big'))\n",
    "\n",
    "# Eliminar las filas que contienen valores no válidos\n",
    "#malicious_data = malicious_data.dropna(subset=['srcaddr'])\n",
    "#malicious_data = malicious_data.dropna(subset=['dstaddr'])\n",
    "\n",
    "malicious_data.info()"
   ]
  },
  {
   "cell_type": "code",
   "execution_count": 6,
   "id": "10b4d011",
   "metadata": {},
   "outputs": [
    {
     "name": "stdout",
     "output_type": "stream",
     "text": [
      "<class 'pandas.core.frame.DataFrame'>\n",
      "RangeIndex: 176447 entries, 0 to 176446\n",
      "Data columns (total 11 columns):\n",
      " #   Column     Non-Null Count   Dtype\n",
      "---  ------     --------------   -----\n",
      " 0   dpkts      176447 non-null  int64\n",
      " 1   doctets    176447 non-null  int64\n",
      " 2   srcaddr    176447 non-null  int64\n",
      " 3   dstaddr    176447 non-null  int64\n",
      " 4   input      176447 non-null  int64\n",
      " 5   output     176447 non-null  int64\n",
      " 6   srcport    176447 non-null  int64\n",
      " 7   dstport    176447 non-null  int64\n",
      " 8   prot       176447 non-null  int64\n",
      " 9   tos        176447 non-null  int64\n",
      " 10  tcp_flags  176447 non-null  int64\n",
      "dtypes: int64(11)\n",
      "memory usage: 14.8 MB\n"
     ]
    }
   ],
   "source": [
    "# Aplicar la función a la columna 'srcaddr'\n",
    "non_malicious_data['srcaddr'] = non_malicious_data['srcaddr'].apply(convert_ip_to_int)\n",
    "non_malicious_data['dstaddr'] = non_malicious_data['dstaddr'].apply(convert_ip_to_int)\n",
    "\n",
    "# Eliminar las filas que contienen valores no válidos\n",
    "#non_malicious_data = non_malicious_data.dropna(subset=['srcaddr'])\n",
    "#non_malicious_data = non_malicious_data.dropna(subset=['dstaddr'])\n",
    "\n",
    "malicious_data.info()"
   ]
  },
  {
   "cell_type": "markdown",
   "id": "c805ada6",
   "metadata": {},
   "source": [
    "# Normaliza\n"
   ]
  },
  {
   "cell_type": "code",
   "execution_count": 8,
   "id": "22d7ab8f",
   "metadata": {},
   "outputs": [],
   "source": [
    "from sklearn.preprocessing import MinMaxScaler\n",
    "\n",
    "# Normalizar los datos en el dataframe malicious_data\n",
    "# La función fit_transform() ajusta los datos y los transforma al rango especificado\n",
    "# En este caso, se ajustan los datos para que estén en un rango entre 0 y 1\n",
    "datos_normalizados_malicius = MinMaxScaler().fit_transform(malicious_data)\n",
    "\n",
    "# Normalizar los datos en el dataframe non_malicious_data\n",
    "# La función fit_transform() ajusta los datos y los transforma al rango especificado\n",
    "# En este caso, se ajustan los datos para que estén en un rango entre 0 y 1\n",
    "datos_normalizados_non_malicius = MinMaxScaler().fit_transform(non_malicious_data)\n"
   ]
  },
  {
   "cell_type": "markdown",
   "id": "e61fed15",
   "metadata": {},
   "source": [
    "# Clasificación\n"
   ]
  },
  {
   "cell_type": "code",
   "execution_count": 9,
   "id": "c1dbea8a",
   "metadata": {},
   "outputs": [],
   "source": [
    "from sklearn.model_selection import train_test_split\n",
    "from sklearn.neighbors import KNeighborsClassifier\n",
    "from sklearn.linear_model import LogisticRegression\n",
    "from sklearn.svm import LinearSVC\n",
    "from sklearn.linear_model import Perceptron\n",
    "from sklearn.ensemble import RandomForestClassifier\n",
    "from sklearn.metrics import classification_report\n",
    "from sklearn.metrics import accuracy_score\n",
    "from sklearn.metrics import confusion_matrix"
   ]
  },
  {
   "cell_type": "code",
   "execution_count": 10,
   "id": "ec032d14",
   "metadata": {},
   "outputs": [],
   "source": [
    "# Dividir el conjunto de datos en conjuntos de entrenamiento y prueba\n",
    "\n",
    "X = pd.concat([malicious_data, non_malicious_data]) # Concatenar ambos conjuntos\n",
    "y = [1]*len(malicious_data) + [0]*len(non_malicious_data) # Etiquetas de clase: 1 para datos maliciosos, 0 para no maliciosos\n",
    "X_train, X_test, y_train, y_test = train_test_split(X, y, test_size=0.2,random_state=42)\n"
   ]
  },
  {
   "cell_type": "markdown",
   "id": "50c97959",
   "metadata": {},
   "source": [
    "# KNeighbors"
   ]
  },
  {
   "cell_type": "code",
   "execution_count": 11,
   "id": "cb5a23fe",
   "metadata": {},
   "outputs": [
    {
     "name": "stdout",
     "output_type": "stream",
     "text": [
      "accuracy: 0.999489933266269\n",
      "\n",
      "Matriz de confusión\n"
     ]
    },
    {
     "data": {
      "text/plain": [
       "array([[35116,     4],\n",
       "       [   32, 35427]])"
      ]
     },
     "execution_count": 11,
     "metadata": {},
     "output_type": "execute_result"
    }
   ],
   "source": [
    "\n",
    "model = KNeighborsClassifier()\n",
    "# Se entrena el modelo con los datos de entrenamiento\n",
    "model.fit(X_train, y_train)\n",
    "# Se hacen predicciones con los datos de prueba\n",
    "y_pred = model.predict(X_test)\n",
    "# Se calcula la precisión del modelo\n",
    "accuracy = accuracy_score(y_test, y_pred)\n",
    "\n",
    "print(\"accuracy: \" + str(accuracy)+\"\\n\")\n",
    "print(\"Matriz de confusión\")\n",
    "\n",
    "# Se muestra la matriz de confusión utilizando la función confusion_matrix() de scikit-learn\n",
    "# que toma como argumentos los valores verdaderos y las predicciones del modelo\n",
    "\n",
    "confusion_matrix(y_test, y_pred)"
   ]
  },
  {
   "cell_type": "markdown",
   "id": "83fce265",
   "metadata": {},
   "source": [
    "# LogisticRegression"
   ]
  },
  {
   "cell_type": "code",
   "execution_count": 12,
   "id": "04fde1e9",
   "metadata": {},
   "outputs": [
    {
     "name": "stdout",
     "output_type": "stream",
     "text": [
      "accuracy: 0.4975984357953499\n",
      "\n",
      "Matriz de confusión\n"
     ]
    },
    {
     "data": {
      "text/plain": [
       "array([[35120,     0],\n",
       "       [35459,     0]])"
      ]
     },
     "execution_count": 12,
     "metadata": {},
     "output_type": "execute_result"
    }
   ],
   "source": [
    "model = LogisticRegression()\n",
    "# Se entrena el modelo con los datos de entrenamiento\n",
    "model.fit(X_train, y_train)\n",
    "# Se hacen predicciones con los datos de prueba\n",
    "y_pred = model.predict(X_test)\n",
    "# Se calcula la precisión del modelo\n",
    "accuracy = accuracy_score(y_test, y_pred)\n",
    "\n",
    "print(\"accuracy: \" + str(accuracy)+\"\\n\")\n",
    "print(\"Matriz de confusión\")\n",
    "\n",
    "# Se muestra la matriz de confusión utilizando la función confusion_matrix() de scikit-learn\n",
    "# que toma como argumentos los valores verdaderos y las predicciones del modelo\n",
    "\n",
    "confusion_matrix(y_test, y_pred)"
   ]
  },
  {
   "cell_type": "markdown",
   "id": "d26637b3",
   "metadata": {},
   "source": [
    "# LinearSVC"
   ]
  },
  {
   "cell_type": "code",
   "execution_count": null,
   "id": "88fb353e",
   "metadata": {},
   "outputs": [],
   "source": [
    "\n",
    "model = LinearSVC(max_iter=10000)\n",
    "# Se entrena el modelo con los datos de entrenamiento\n",
    "model.fit(X_train, y_train)\n",
    "# Se hacen predicciones con los datos de prueba\n",
    "y_pred = model.predict(X_test)\n",
    "# Se calcula la precisión del modelo\n",
    "accuracy = accuracy_score(y_test, y_pred)\n",
    "\n",
    "print(\"accuracy: \" + str(accuracy)+\"\\n\")\n",
    "print(\"Matriz de confusión\")\n",
    "\n",
    "# Se muestra la matriz de confusión utilizando la función confusion_matrix() de scikit-learn\n",
    "# que toma como argumentos los valores verdaderos y las predicciones del modelo\n",
    "\n",
    "confusion_matrix(y_test, y_pred)"
   ]
  },
  {
   "cell_type": "markdown",
   "id": "f752df59",
   "metadata": {},
   "source": [
    "# Perceptron"
   ]
  },
  {
   "cell_type": "code",
   "execution_count": 14,
   "id": "2daa4b96",
   "metadata": {},
   "outputs": [
    {
     "name": "stdout",
     "output_type": "stream",
     "text": [
      "accuracy: 0.2754360362147381\n",
      "\n",
      "Matriz de confusión\n"
     ]
    },
    {
     "data": {
      "text/plain": [
       "array([[19440, 15680],\n",
       "       [35459,     0]])"
      ]
     },
     "execution_count": 14,
     "metadata": {},
     "output_type": "execute_result"
    }
   ],
   "source": [
    "model = Perceptron()\n",
    "# Se entrena el modelo con los datos de entrenamiento\n",
    "model.fit(X_train, y_train)\n",
    "# Se hacen predicciones con los datos de prueba\n",
    "y_pred = model.predict(X_test)\n",
    "# Se calcula la precisión del modelo\n",
    "accuracy = accuracy_score(y_test, y_pred)\n",
    "\n",
    "print(\"accuracy: \" + str(accuracy)+\"\\n\")\n",
    "print(\"Matriz de confusión\")\n",
    "\n",
    "# Se muestra la matriz de confusión utilizando la función confusion_matrix() de scikit-learn\n",
    "# que toma como argumentos los valores verdaderos y las predicciones del modelo\n",
    "\n",
    "confusion_matrix(y_test, y_pred)"
   ]
  },
  {
   "cell_type": "markdown",
   "id": "57014b28",
   "metadata": {},
   "source": [
    "# RandomForestClassifier"
   ]
  },
  {
   "cell_type": "code",
   "execution_count": 15,
   "id": "2c1abdd5",
   "metadata": {},
   "outputs": [
    {
     "name": "stdout",
     "output_type": "stream",
     "text": [
      "accuracy: 1.0\n",
      "\n",
      "Matriz de confusión\n"
     ]
    },
    {
     "data": {
      "text/plain": [
       "array([[35120,     0],\n",
       "       [    0, 35459]])"
      ]
     },
     "execution_count": 15,
     "metadata": {},
     "output_type": "execute_result"
    }
   ],
   "source": [
    "model = RandomForestClassifier()\n",
    "# Se entrena el modelo con los datos de entrenamiento\n",
    "model.fit(X_train, y_train)\n",
    "# Se hacen predicciones con los datos de prueba\n",
    "y_pred = model.predict(X_test)\n",
    "# Se calcula la precisión del modelo\n",
    "accuracy = accuracy_score(y_test, y_pred)\n",
    "\n",
    "print(\"accuracy: \" + str(accuracy)+\"\\n\")\n",
    "print(\"Matriz de confusión\")\n",
    "\n",
    "# Se muestra la matriz de confusión utilizando la función confusion_matrix() de scikit-learn\n",
    "# que toma como argumentos los valores verdaderos y las predicciones del modelo\n",
    "\n",
    "confusion_matrix(y_test, y_pred)"
   ]
  }
 ],
 "metadata": {
  "kernelspec": {
   "display_name": "Python 3 (ipykernel)",
   "language": "python",
   "name": "python3"
  },
  "language_info": {
   "codemirror_mode": {
    "name": "ipython",
    "version": 3
   },
   "file_extension": ".py",
   "mimetype": "text/x-python",
   "name": "python",
   "nbconvert_exporter": "python",
   "pygments_lexer": "ipython3",
   "version": "3.8.10"
  }
 },
 "nbformat": 4,
 "nbformat_minor": 5
}
