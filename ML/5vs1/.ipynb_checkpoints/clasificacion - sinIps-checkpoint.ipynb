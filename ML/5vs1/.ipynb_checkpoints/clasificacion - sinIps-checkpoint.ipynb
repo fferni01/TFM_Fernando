{
 "cells": [
  {
   "cell_type": "markdown",
   "id": "13a22dab",
   "metadata": {},
   "source": [
    "# Setup"
   ]
  },
  {
   "cell_type": "code",
   "execution_count": 1,
   "id": "c281b010",
   "metadata": {},
   "outputs": [],
   "source": [
    "# Python ≥3.5 is required\n",
    "import sys\n",
    "assert sys.version_info >= (3, 5)\n",
    "\n",
    "# Scikit-Learn ≥0.20 is required\n",
    "import sklearn\n",
    "assert sklearn.__version__ >= \"0.20\"\n",
    "\n",
    "# Common imports\n",
    "import numpy as np\n",
    "import os\n",
    "\n",
    "# To plot pretty figures\n",
    "%matplotlib inline\n",
    "import matplotlib as mpl\n",
    "import matplotlib.pyplot as plt\n",
    "mpl.rc('axes', labelsize=14)\n",
    "mpl.rc('xtick', labelsize=12)\n",
    "mpl.rc('ytick', labelsize=12)\n"
   ]
  },
  {
   "cell_type": "markdown",
   "id": "c0fb8916",
   "metadata": {},
   "source": [
    "# creo el csv a tratar"
   ]
  },
  {
   "cell_type": "code",
   "execution_count": 2,
   "id": "087a2204",
   "metadata": {
    "scrolled": true
   },
   "outputs": [],
   "source": [
    "import pandas as pd\n",
    "\n",
    "non_malicious_data = pd.read_csv(\"DatosDeTraficoBueno.csv\")\n",
    "malicious_data = pd.read_csv(\"DatosDeTraficoMalo_5vs1.csv\")\n"
   ]
  },
  {
   "cell_type": "markdown",
   "id": "935a42a9",
   "metadata": {},
   "source": [
    "# Limpieza de características"
   ]
  },
  {
   "cell_type": "code",
   "execution_count": 3,
   "id": "7d525433",
   "metadata": {},
   "outputs": [],
   "source": [
    "#Elimina datos\n",
    "#columnas_a_eliminar = ['exaddr','engine_type','engine_id','dst_mask','src_mask', 'dst_mask','src_as','dst_as','#:unix_secs','unix_nsecs','sysuptime','first','last','nexthop']\n",
    "columnas_a_eliminar = ['srcaddr','dstaddr','exaddr','engine_type','engine_id','dst_mask','src_mask', 'dst_mask','src_as','dst_as','#:unix_secs','unix_nsecs','sysuptime','first','last','nexthop']\n",
    "malicious_data = malicious_data.drop(columnas_a_eliminar, axis=1)\n",
    "non_malicious_data = non_malicious_data.drop(columnas_a_eliminar, axis=1)"
   ]
  },
  {
   "cell_type": "code",
   "execution_count": 4,
   "id": "4f5ced0e",
   "metadata": {},
   "outputs": [
    {
     "name": "stdout",
     "output_type": "stream",
     "text": [
      "<class 'pandas.core.frame.DataFrame'>\n",
      "RangeIndex: 615081 entries, 0 to 615080\n",
      "Data columns (total 9 columns):\n",
      " #   Column     Non-Null Count   Dtype\n",
      "---  ------     --------------   -----\n",
      " 0   dpkts      615081 non-null  int64\n",
      " 1   doctets    615081 non-null  int64\n",
      " 2   input      615081 non-null  int64\n",
      " 3   output     615081 non-null  int64\n",
      " 4   srcport    615081 non-null  int64\n",
      " 5   dstport    615081 non-null  int64\n",
      " 6   prot       615081 non-null  int64\n",
      " 7   tos        615081 non-null  int64\n",
      " 8   tcp_flags  615081 non-null  int64\n",
      "dtypes: int64(9)\n",
      "memory usage: 42.2 MB\n"
     ]
    }
   ],
   "source": [
    "malicious_data.info()"
   ]
  },
  {
   "cell_type": "code",
   "execution_count": 5,
   "id": "10b4d011",
   "metadata": {},
   "outputs": [
    {
     "name": "stdout",
     "output_type": "stream",
     "text": [
      "<class 'pandas.core.frame.DataFrame'>\n",
      "RangeIndex: 615081 entries, 0 to 615080\n",
      "Data columns (total 9 columns):\n",
      " #   Column     Non-Null Count   Dtype\n",
      "---  ------     --------------   -----\n",
      " 0   dpkts      615081 non-null  int64\n",
      " 1   doctets    615081 non-null  int64\n",
      " 2   input      615081 non-null  int64\n",
      " 3   output     615081 non-null  int64\n",
      " 4   srcport    615081 non-null  int64\n",
      " 5   dstport    615081 non-null  int64\n",
      " 6   prot       615081 non-null  int64\n",
      " 7   tos        615081 non-null  int64\n",
      " 8   tcp_flags  615081 non-null  int64\n",
      "dtypes: int64(9)\n",
      "memory usage: 42.2 MB\n"
     ]
    }
   ],
   "source": [
    "malicious_data.info()"
   ]
  },
  {
   "cell_type": "markdown",
   "id": "e61fed15",
   "metadata": {},
   "source": [
    "# Clasificación\n"
   ]
  },
  {
   "cell_type": "code",
   "execution_count": 6,
   "id": "c1dbea8a",
   "metadata": {},
   "outputs": [],
   "source": [
    "from sklearn.model_selection import train_test_split\n",
    "from sklearn.neighbors import KNeighborsClassifier\n",
    "from sklearn.linear_model import LogisticRegression\n",
    "from sklearn.svm import LinearSVC\n",
    "from sklearn.linear_model import Perceptron\n",
    "from sklearn.ensemble import RandomForestClassifier\n",
    "from sklearn.metrics import classification_report\n",
    "from sklearn.metrics import accuracy_score, recall_score, precision_score, f1_score, roc_auc_score\n",
    "from sklearn.metrics import confusion_matrix, ConfusionMatrixDisplay\n"
   ]
  },
  {
   "cell_type": "code",
   "execution_count": 7,
   "id": "ec032d14",
   "metadata": {},
   "outputs": [],
   "source": [
    "\n",
    "# Agregar una columna de etiquetas a cada conjunto de datos\n",
    "malicious_data['etiqueta'] = 1\n",
    "non_malicious_data['etiqueta'] = 0\n",
    "# Combinar los conjuntos de datos y mezclarlos aleatoriamente\n",
    "datos = pd.concat([malicious_data, non_malicious_data]).sample(frac=1, random_state=2)\n",
    "\n",
    "X = datos.drop('etiqueta', axis=1)\n",
    "y = datos['etiqueta']\n",
    "# Dividir el conjunto de datos en conjuntos de entrenamiento y prueba\n",
    "X_train, X_test, y_train, y_test = train_test_split(X, y, test_size=0.2, random_state=3)\n",
    "\n",
    "from sklearn.preprocessing import MinMaxScaler\n",
    "# Inicializa el escalador\n",
    "scaler = MinMaxScaler()\n",
    "\n",
    "# Ajusta el escalador a los datos de entrenamiento y luego transforma los datos de entrenamiento\n",
    "X_train = scaler.fit_transform(X_train)\n",
    "\n",
    "# Usa el escalador ajustado para transformar los datos de prueba\n",
    "X_test = scaler.transform(X_test)\n",
    "\n"
   ]
  },
  {
   "cell_type": "code",
   "execution_count": 8,
   "id": "85ddf70e",
   "metadata": {},
   "outputs": [],
   "source": [
    "\n",
    "def evaluate_classification_model(y_true, y_pred):\n",
    "    # Calcular la precisión del modelo\n",
    "    accuracy = accuracy_score(y_true, y_pred)\n",
    "    print('Precisión del modelo: {:.2f}%'.format(accuracy * 100))\n",
    "    \n",
    "    # Recall\n",
    "    recall = recall_score(y_true, y_pred)\n",
    "    print('Recall: {:.2f}%'.format(recall * 100))\n",
    "    \n",
    "    # Precisión\n",
    "    precision = precision_score(y_true, y_pred)\n",
    "    print('Precisión: {:.2f}%'.format(precision * 100))\n",
    "    \n",
    "    # F1 Score\n",
    "    f1 = f1_score(y_true, y_pred)\n",
    "    print('F1 Score: {:.2f}%'.format(f1 * 100))\n",
    "\n",
    "    # Imprimir matriz de confusión\n",
    "    cm = confusion_matrix(y_true, y_pred)\n",
    "    cmd = ConfusionMatrixDisplay(confusion_matrix=cm, display_labels=[\"No malicioso\", \"Malicioso\"])\n",
    "    \n",
    "    # Dibujar la matriz de confusión\n",
    "    fig, ax = plt.subplots(figsize=(5, 5))\n",
    "    cmd.plot(ax=ax, cmap=plt.cm.Blues)\n",
    "    plt.show()"
   ]
  },
  {
   "cell_type": "code",
   "execution_count": 9,
   "id": "3ad777f2",
   "metadata": {},
   "outputs": [],
   "source": [
    "from sklearn.model_selection import cross_val_predict\n",
    "from sklearn.metrics import confusion_matrix, ConfusionMatrixDisplay\n",
    "import matplotlib.pyplot as plt\n",
    "from sklearn.metrics import accuracy_score, precision_score, recall_score, f1_score\n",
    "\n",
    "# Función para evaluar el modelo sin CV\n",
    "def evaluate_classification_model_no_cv(model, X_test, y_test):\n",
    "    # Realizar predicciones con el modelo\n",
    "    y_pred = model.predict(X_test)\n",
    "\n",
    "    # Calcular la precisión del modelo\n",
    "    accuracy = accuracy_score(y_test, y_pred)\n",
    "    print('Precisión del modelo sin CV: {:.2f}%'.format(accuracy * 100))\n",
    "    \n",
    "    # Recall\n",
    "    recall = recall_score(y_test, y_pred)\n",
    "    print('Recall sin CV: {:.2f}%'.format(recall * 100))\n",
    "    \n",
    "    # Precisión\n",
    "    precision = precision_score(y_test, y_pred)\n",
    "    print('Precisión sin CV: {:.2f}%'.format(precision * 100))\n",
    "    \n",
    "    # F1 Score\n",
    "    f1 = f1_score(y_test, y_pred)\n",
    "    print('F1 Score sin CV: {:.2f}%'.format(f1 * 100))\n",
    "\n",
    "    # Imprimir matriz de confusión\n",
    "    cm = confusion_matrix(y_test, y_pred)\n",
    "    cmd = ConfusionMatrixDisplay(confusion_matrix=cm, display_labels=[\"No malicioso\", \"Malicioso\"])\n",
    "    \n",
    "    # Dibujar la matriz de confusión\n",
    "    fig, ax = plt.subplots(figsize=(5, 5))\n",
    "    cmd.plot(ax=ax, cmap=plt.cm.Blues)\n",
    "    plt.show()\n",
    "\n",
    "# Función para evaluar el modelo con CV\n",
    "def evaluate_classification_model_with_cv(model, X, y, cv=5):\n",
    "    # Realiza la validación cruzada y obtén las predicciones\n",
    "    y_pred = cross_val_predict(model, X, y, cv=cv)\n",
    "\n",
    "    # Calcular la precisión del modelo\n",
    "    accuracy = accuracy_score(y, y_pred)\n",
    "    print('Precisión del modelo con CV: {:.2f}%'.format(accuracy * 100))\n",
    "    \n",
    "    # Recall\n",
    "    recall = recall_score(y, y_pred)\n",
    "    print('Recall con CV: {:.2f}%'.format(recall * 100))\n",
    "    \n",
    "    # Precisión\n",
    "    precision = precision_score(y, y_pred)\n",
    "    print('Precisión con CV: {:.2f}%'.format(precision * 100))\n",
    "    \n",
    "    # F1 Score\n",
    "    f1 = f1_score(y, y_pred)\n",
    "    print('F1 Score con CV: {:.2f}%'.format(f1 * 100))\n",
    "\n",
    "    # Imprimir matriz de confusión\n",
    "    cm = confusion_matrix(y, y_pred)\n",
    "    cmd = ConfusionMatrixDisplay(confusion_matrix=cm, display_labels=[\"No malicioso\", \"Malicioso\"])\n",
    "    \n",
    "    # Dibujar la matriz de confusión\n",
    "    fig, ax = plt.subplots(figsize=(5, 5))\n",
    "    cmd.plot(ax=ax, cmap=plt.cm.Blues)\n",
    "    plt.show()\n",
    "\n"
   ]
  },
  {
   "cell_type": "markdown",
   "id": "50c97959",
   "metadata": {},
   "source": [
    "# KNeighbors"
   ]
  },
  {
   "cell_type": "code",
   "execution_count": null,
   "id": "cb5a23fe",
   "metadata": {},
   "outputs": [],
   "source": [
    "model = KNeighborsClassifier()\n",
    "\n",
    "# Se entrena el modelo con los datos de entrenamiento\n",
    "model.fit(X_train, y_train)\n",
    "\n",
    "\n",
    "# Evaluación sin CV\n",
    "evaluate_classification_model_no_cv(model, X_test, y_test)\n",
    "\n",
    "# Evaluación con CV\n",
    "\n",
    "evaluate_classification_model_with_cv(model, X, y, cv=5)\n"
   ]
  },
  {
   "cell_type": "markdown",
   "id": "83fce265",
   "metadata": {},
   "source": [
    "# LogisticRegression"
   ]
  },
  {
   "cell_type": "code",
   "execution_count": null,
   "id": "04fde1e9",
   "metadata": {},
   "outputs": [],
   "source": [
    "model = LogisticRegression(max_iter=1000)\n",
    "# Se entrena el modelo con los datos de entrenamiento\n",
    "model.fit(X_train, y_train)\n",
    "\n",
    "# Evaluación sin CV\n",
    "evaluate_classification_model_no_cv(model, X_test, y_test)\n",
    "\n",
    "# Evaluación con CV\n",
    "\n",
    "evaluate_classification_model_with_cv(model, X, y, cv=5)"
   ]
  },
  {
   "cell_type": "markdown",
   "id": "d26637b3",
   "metadata": {},
   "source": [
    "# LinearSVC"
   ]
  },
  {
   "cell_type": "code",
   "execution_count": null,
   "id": "88fb353e",
   "metadata": {},
   "outputs": [],
   "source": [
    "\n",
    "model = LinearSVC(max_iter=1000)\n",
    "# Se entrena el modelo con los datos de entrenamiento\n",
    "model.fit(X_train, y_train)\n",
    "\n",
    "# Evaluación sin CV\n",
    "evaluate_classification_model_no_cv(model, X_test, y_test)\n",
    "\n",
    "# Evaluación con CV\n",
    "\n",
    "evaluate_classification_model_with_cv(model, X, y, cv=5)"
   ]
  },
  {
   "cell_type": "markdown",
   "id": "f752df59",
   "metadata": {},
   "source": [
    "# Perceptron"
   ]
  },
  {
   "cell_type": "code",
   "execution_count": null,
   "id": "56f38dc3",
   "metadata": {},
   "outputs": [],
   "source": [
    "import matplotlib.pyplot as plt\n",
    "\n",
    "model = Perceptron(random_state=42)\n",
    "# Se entrena el modelo con los datos de entrenamiento\n",
    "model.fit(X_train, y_train)\n",
    "\n",
    "# Evaluación sin CV\n",
    "evaluate_classification_model_no_cv(model, X_test, y_test)\n",
    "\n",
    "# Evaluación con CV\n",
    "\n",
    "evaluate_classification_model_with_cv(model, X, y, cv=5)"
   ]
  },
  {
   "cell_type": "markdown",
   "id": "57014b28",
   "metadata": {},
   "source": [
    "# RandomForestClassifier"
   ]
  },
  {
   "cell_type": "code",
   "execution_count": null,
   "id": "2c1abdd5",
   "metadata": {},
   "outputs": [],
   "source": [
    "model = RandomForestClassifier()\n",
    "# Se entrena el modelo con los datos de entrenamiento\n",
    "model.fit(X_train, y_train)\n",
    "\n",
    "# Se hacen predicciones con los datos de prueba\n",
    "predictions = model.predict(X_test)\n",
    "\n",
    "evaluate_classification_model(y_test, predictions)"
   ]
  },
  {
   "cell_type": "markdown",
   "id": "a51fe295",
   "metadata": {},
   "source": [
    "# Decision tree"
   ]
  },
  {
   "cell_type": "code",
   "execution_count": null,
   "id": "7eb82774",
   "metadata": {},
   "outputs": [],
   "source": [
    "from sklearn.tree import DecisionTreeClassifier\n",
    "\n",
    "# Crear el modelo de árbol de decisión\n",
    "model = DecisionTreeClassifier()\n",
    "\n",
    "# Entrenar el modelo con los datos de entrenamiento\n",
    "model.fit(X_train, y_train)\n",
    "\n",
    "# Evaluación sin CV\n",
    "evaluate_classification_model_no_cv(model, X_test, y_test)\n",
    "\n",
    "# Evaluación con CV\n",
    "\n",
    "evaluate_classification_model_with_cv(model, X, y, cv=5)\n",
    "\n"
   ]
  },
  {
   "cell_type": "markdown",
   "id": "12bcba83",
   "metadata": {},
   "source": [
    "# AdaBoost"
   ]
  },
  {
   "cell_type": "code",
   "execution_count": null,
   "id": "6bf8faca",
   "metadata": {},
   "outputs": [],
   "source": [
    "from sklearn.ensemble import AdaBoostClassifier\n",
    "\n",
    "# Crear el modelo Adaboost\n",
    "model = AdaBoostClassifier()\n",
    "\n",
    "# Entrenar el modelo con los datos de entrenamiento\n",
    "model.fit(X_train, y_train)\n",
    "\n",
    "# Evaluación sin CV\n",
    "evaluate_classification_model_no_cv(model, X_test, y_test)\n",
    "\n",
    "# Evaluación con CV\n",
    "\n",
    "evaluate_classification_model_with_cv(model, X, y, cv=5)\n"
   ]
  },
  {
   "cell_type": "markdown",
   "id": "5fcd2a9a",
   "metadata": {},
   "source": [
    "# xgboost"
   ]
  },
  {
   "cell_type": "code",
   "execution_count": null,
   "id": "5892ea65",
   "metadata": {},
   "outputs": [],
   "source": [
    "import xgboost as xgb\n",
    "\n",
    "# Crear el modelo XGBoost\n",
    "model = xgb.XGBClassifier()\n",
    "\n",
    "# Entrenar el modelo con los datos de entrenamiento\n",
    "model.fit(X_train, y_train)\n",
    "\n",
    "# Evaluación sin CV\n",
    "evaluate_classification_model_no_cv(model, X_test, y_test)\n",
    "\n",
    "# Evaluación con CV\n",
    "\n",
    "evaluate_classification_model_with_cv(model, X, y, cv=5)\n"
   ]
  },
  {
   "cell_type": "markdown",
   "id": "9214f3f6",
   "metadata": {},
   "source": [
    "# naive bayes"
   ]
  },
  {
   "cell_type": "code",
   "execution_count": null,
   "id": "6848df99",
   "metadata": {},
   "outputs": [],
   "source": [
    "\n",
    "from sklearn.naive_bayes import GaussianNB\n",
    "\n",
    "# Crear el modelo de clasificador Naive Bayes\n",
    "model = GaussianNB()\n",
    "\n",
    "# Entrenar el modelo con los datos de entrenamiento\n",
    "model.fit(X_train, y_train)\n",
    "\n",
    "# Evaluación sin CV\n",
    "evaluate_classification_model_no_cv(model, X_test, y_test)\n",
    "\n",
    "# Evaluación con CV\n",
    "\n",
    "evaluate_classification_model_with_cv(model, X, y, cv=5)"
   ]
  },
  {
   "cell_type": "markdown",
   "id": "ff482ddd",
   "metadata": {},
   "source": [
    "# Ensemble Classifier con votación mayoritaria para mejorar la precisión"
   ]
  },
  {
   "cell_type": "code",
   "execution_count": null,
   "id": "30b9adcf",
   "metadata": {},
   "outputs": [],
   "source": []
  },
  {
   "cell_type": "code",
   "execution_count": null,
   "id": "e59c5c80",
   "metadata": {},
   "outputs": [],
   "source": [
    "\"\"\"from sklearn.ensemble import VotingClassifier\n",
    "# Crear el ensemble classifier con votación mayoritaria\n",
    "ensemble_model = VotingClassifier(estimators=[('lr', best_model2), ('perceptron', best_model4), ('lsvc', best_model3), ('rf', best_model5), ('knn', best_model1)], voting='hard')\n",
    "\n",
    "# Entrenar el ensemble classifier\n",
    "ensemble_model.fit(X_train, y_train)\n",
    "\n",
    "# Hacer predicciones con el ensemble classifier\n",
    "predictions = ensemble_model.predict(X_test)\n",
    "\n",
    "# Evaluar el rendimiento del ensemble classifier\n",
    "accuracy = accuracy_score(y_test, predictions)\n",
    "print('Precisión del ensemble classifier: {:.2f}%'.format(accuracy * 100))\"\"\""
   ]
  },
  {
   "cell_type": "code",
   "execution_count": null,
   "id": "aa2a7033",
   "metadata": {},
   "outputs": [],
   "source": []
  },
  {
   "cell_type": "code",
   "execution_count": null,
   "id": "ab1b988c",
   "metadata": {},
   "outputs": [],
   "source": []
  },
  {
   "cell_type": "code",
   "execution_count": null,
   "id": "86feb7bd",
   "metadata": {},
   "outputs": [],
   "source": []
  }
 ],
 "metadata": {
  "kernelspec": {
   "display_name": "Python 3 (ipykernel)",
   "language": "python",
   "name": "python3"
  },
  "language_info": {
   "codemirror_mode": {
    "name": "ipython",
    "version": 3
   },
   "file_extension": ".py",
   "mimetype": "text/x-python",
   "name": "python",
   "nbconvert_exporter": "python",
   "pygments_lexer": "ipython3",
   "version": "3.11.3"
  }
 },
 "nbformat": 4,
 "nbformat_minor": 5
}
