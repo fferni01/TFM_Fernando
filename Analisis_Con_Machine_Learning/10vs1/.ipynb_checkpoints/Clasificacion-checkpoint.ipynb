{
 "cells": [
  {
   "cell_type": "markdown",
   "id": "13a22dab",
   "metadata": {},
   "source": [
    "# Configuración"
   ]
  },
  {
   "cell_type": "code",
   "execution_count": 1,
   "id": "c281b010",
   "metadata": {},
   "outputs": [],
   "source": [
    "# Python ≥3.5 is required\n",
    "import sys\n",
    "assert sys.version_info >= (3, 5)\n",
    "\n",
    "# Scikit-Learn ≥0.20 is required\n",
    "import sklearn\n",
    "assert sklearn.__version__ >= \"0.20\"\n",
    "\n",
    "# Common imports\n",
    "import numpy as np\n",
    "import os\n",
    "\n",
    "# To plot pretty figures\n",
    "%matplotlib inline\n",
    "import matplotlib as mpl\n",
    "import matplotlib.pyplot as plt\n",
    "mpl.rc('axes', labelsize=14)\n",
    "mpl.rc('xtick', labelsize=12)\n",
    "mpl.rc('ytick', labelsize=12)\n",
    "\n",
    "from sklearn.model_selection import train_test_split\n",
    "from sklearn.neighbors import KNeighborsClassifier\n",
    "from sklearn.linear_model import LogisticRegression\n",
    "from sklearn.svm import LinearSVC\n",
    "from sklearn.linear_model import Perceptron\n",
    "from sklearn.ensemble import RandomForestClassifier\n",
    "from sklearn.metrics import classification_report\n",
    "from sklearn.metrics import accuracy_score, recall_score, precision_score, f1_score, roc_auc_score\n",
    "from sklearn.metrics import confusion_matrix, ConfusionMatrixDisplay\n",
    "import time"
   ]
  },
  {
   "cell_type": "markdown",
   "id": "c0fb8916",
   "metadata": {},
   "source": [
    "# CSV a tratar"
   ]
  },
  {
   "cell_type": "code",
   "execution_count": 2,
   "id": "087a2204",
   "metadata": {
    "scrolled": true
   },
   "outputs": [],
   "source": [
    "import pandas as pd\n",
    "malicious_data = pd.read_csv(\"DatosDeTraficoMalo_10vs1.csv\")\n",
    "non_malicious_data = pd.read_csv(\"DatosDeTraficoBueno.csv\")\n",
    "non_malicious_data = non_malicious_data.sample(n=len(malicious_data), random_state=42)"
   ]
  },
  {
   "cell_type": "markdown",
   "id": "935a42a9",
   "metadata": {},
   "source": [
    "# Limpieza de características"
   ]
  },
  {
   "cell_type": "code",
   "execution_count": 3,
   "id": "7d525433",
   "metadata": {},
   "outputs": [],
   "source": [
    "#Elimina datos\n",
    "columnas_a_eliminar = ['srcaddr','dstaddr','exaddr','engine_type','engine_id','dst_mask','src_mask', 'dst_mask','src_as','dst_as','#:unix_secs','unix_nsecs','sysuptime','first','last','nexthop']\n",
    "malicious_data = malicious_data.drop(columnas_a_eliminar, axis=1)\n",
    "non_malicious_data = non_malicious_data.drop(columnas_a_eliminar, axis=1)"
   ]
  },
  {
   "cell_type": "code",
   "execution_count": 4,
   "id": "4f5ced0e",
   "metadata": {},
   "outputs": [
    {
     "name": "stdout",
     "output_type": "stream",
     "text": [
      "<class 'pandas.core.frame.DataFrame'>\n",
      "RangeIndex: 747690 entries, 0 to 747689\n",
      "Data columns (total 9 columns):\n",
      " #   Column     Non-Null Count   Dtype\n",
      "---  ------     --------------   -----\n",
      " 0   dpkts      747690 non-null  int64\n",
      " 1   doctets    747690 non-null  int64\n",
      " 2   input      747690 non-null  int64\n",
      " 3   output     747690 non-null  int64\n",
      " 4   srcport    747690 non-null  int64\n",
      " 5   dstport    747690 non-null  int64\n",
      " 6   prot       747690 non-null  int64\n",
      " 7   tos        747690 non-null  int64\n",
      " 8   tcp_flags  747690 non-null  int64\n",
      "dtypes: int64(9)\n",
      "memory usage: 51.3 MB\n"
     ]
    }
   ],
   "source": [
    "malicious_data.info()"
   ]
  },
  {
   "cell_type": "code",
   "execution_count": 5,
   "id": "10b4d011",
   "metadata": {},
   "outputs": [
    {
     "name": "stdout",
     "output_type": "stream",
     "text": [
      "<class 'pandas.core.frame.DataFrame'>\n",
      "Index: 747690 entries, 398288 to 121958\n",
      "Data columns (total 9 columns):\n",
      " #   Column     Non-Null Count   Dtype\n",
      "---  ------     --------------   -----\n",
      " 0   dpkts      747690 non-null  int64\n",
      " 1   doctets    747690 non-null  int64\n",
      " 2   input      747690 non-null  int64\n",
      " 3   output     747690 non-null  int64\n",
      " 4   srcport    747690 non-null  int64\n",
      " 5   dstport    747690 non-null  int64\n",
      " 6   prot       747690 non-null  int64\n",
      " 7   tos        747690 non-null  int64\n",
      " 8   tcp_flags  747690 non-null  int64\n",
      "dtypes: int64(9)\n",
      "memory usage: 57.0 MB\n"
     ]
    }
   ],
   "source": [
    "non_malicious_data.info()"
   ]
  },
  {
   "cell_type": "markdown",
   "id": "e61fed15",
   "metadata": {},
   "source": [
    "# Clasificación\n"
   ]
  },
  {
   "cell_type": "code",
   "execution_count": 6,
   "id": "ec032d14",
   "metadata": {},
   "outputs": [],
   "source": [
    "\n",
    "# Agregar una columna de etiquetas a cada conjunto de datos\n",
    "malicious_data['etiqueta'] = 1\n",
    "non_malicious_data['etiqueta'] = 0\n",
    "# Combinar los conjuntos de datos y mezclarlos aleatoriamente\n",
    "datos = pd.concat([malicious_data, non_malicious_data]).sample(frac=1, random_state=2)\n",
    "\n",
    "X = datos.drop('etiqueta', axis=1)\n",
    "y = datos['etiqueta']\n",
    "# Dividir el conjunto de datos en conjuntos de entrenamiento y prueba\n",
    "X_train, X_test, y_train, y_test = train_test_split(X, y, test_size=0.2, random_state=3)\n",
    "\n",
    "from sklearn.preprocessing import MinMaxScaler\n",
    "# Inicializa el escalador\n",
    "scaler = MinMaxScaler()\n",
    "\n",
    "# Ajusta el escalador a los datos de entrenamiento y luego transforma los datos de entrenamiento\n",
    "X_train = scaler.fit_transform(X_train)\n",
    "\n",
    "# Usa el escalador ajustado para transformar los datos de prueba\n",
    "X_test = scaler.transform(X_test)\n",
    "\n"
   ]
  },
  {
   "cell_type": "code",
   "execution_count": 7,
   "id": "5d5f8dc4",
   "metadata": {},
   "outputs": [],
   "source": [
    "from sklearn.model_selection import cross_val_predict\n",
    "from sklearn.metrics import confusion_matrix, ConfusionMatrixDisplay\n",
    "import matplotlib.pyplot as plt\n",
    "from sklearn.metrics import accuracy_score, precision_score, recall_score, f1_score\n",
    "\n",
    "# Función para evaluar el modelo sin CV\n",
    "def evaluate_classification_model_no_cv(model, X_test, y_test):\n",
    "    # Realizar predicciones con el modelo\n",
    "    y_pred = model.predict(X_test)\n",
    "\n",
    "    # Calcular la precisión del modelo\n",
    "    accuracy = accuracy_score(y_test, y_pred)\n",
    "    print('Accuracy del modelo sin CV: {:.2f}%'.format(accuracy * 100))\n",
    "    \n",
    "    # Recall\n",
    "    recall = recall_score(y_test, y_pred)\n",
    "    print('Recall sin CV: {:.2f}%'.format(recall * 100))\n",
    "    \n",
    "    # Precisión\n",
    "    precision = precision_score(y_test, y_pred)\n",
    "    print('Precisión sin CV: {:.2f}%'.format(precision * 100))\n",
    "    \n",
    "    # F1 Score\n",
    "    f1 = f1_score(y_test, y_pred)\n",
    "    print('F1 Score sin CV: {:.2f}%'.format(f1 * 100))\n",
    "\n",
    "    # Imprimir matriz de confusión\n",
    "    cm = confusion_matrix(y_test, y_pred)\n",
    "    cmd = ConfusionMatrixDisplay(confusion_matrix=cm, display_labels=[\"No malicioso\", \"Malicioso\"])\n",
    "    \n",
    "    # Dibujar la matriz de confusión\n",
    "    fig, ax = plt.subplots(figsize=(5, 5))\n",
    "    cmd.plot(ax=ax, cmap=plt.cm.Blues)\n",
    "    plt.show()\n",
    "\n",
    "# Función para evaluar el modelo con CV\n",
    "def evaluate_classification_model_with_cv(model, X_test, y_test, cv=5):\n",
    "    # Realiza la validación cruzada y obtén las predicciones\n",
    "    y_pred = cross_val_predict(model, X_test, y_test, cv=cv)\n",
    "\n",
    "    # Calcular la precisión del modelo\n",
    "    accuracy = accuracy_score(y_test, y_pred)\n",
    "    print('Accuracy del modelo con CV: {:.2f}%'.format(accuracy * 100))\n",
    "    \n",
    "    # Recall\n",
    "    recall = recall_score(y_test, y_pred)\n",
    "    print('Recall con CV: {:.2f}%'.format(recall * 100))\n",
    "    \n",
    "    # Precisión\n",
    "    precision = precision_score(y_test, y_pred)\n",
    "    print('Precisión con CV: {:.2f}%'.format(precision * 100))\n",
    "    \n",
    "    # F1 Score\n",
    "    f1 = f1_score(y_test, y_pred)\n",
    "    print('F1 Score con CV: {:.2f}%'.format(f1 * 100))\n",
    "\n",
    "    # Imprimir matriz de confusión\n",
    "    cm = confusion_matrix(y_test, y_pred)\n",
    "    cmd = ConfusionMatrixDisplay(confusion_matrix=cm, display_labels=[\"No malicioso\", \"Malicioso\"])\n",
    "    \n",
    "    # Dibujar la matriz de confusión\n",
    "    fig, ax = plt.subplots(figsize=(5, 5))\n",
    "    cmd.plot(ax=ax, cmap=plt.cm.Blues)\n",
    "    plt.show()\n",
    "\n"
   ]
  },
  {
   "cell_type": "markdown",
   "id": "50c97959",
   "metadata": {},
   "source": [
    "# KNeighbors"
   ]
  },
  {
   "cell_type": "code",
   "execution_count": 8,
   "id": "cb5a23fe",
   "metadata": {},
   "outputs": [
    {
     "name": "stdout",
     "output_type": "stream",
     "text": [
      "Tiempo de entrenamiento: 6.269996881484985 segundos\n"
     ]
    }
   ],
   "source": [
    "start_time = time.time()\n",
    "modelKNN = KNeighborsClassifier()\n",
    "# Se entrena el modelo con los datos de entrenamiento\n",
    "modelKNN.fit(X_train, y_train)\n",
    "training_time = time.time() - start_time\n",
    "print(\"Tiempo de entrenamiento:\", training_time, \"segundos\")"
   ]
  },
  {
   "cell_type": "code",
   "execution_count": 9,
   "id": "4b745473",
   "metadata": {},
   "outputs": [
    {
     "name": "stdout",
     "output_type": "stream",
     "text": [
      "Accuracy del modelo sin CV: 99.96%\n",
      "Recall sin CV: 99.94%\n",
      "Precisión sin CV: 99.98%\n",
      "F1 Score sin CV: 99.96%\n"
     ]
    },
    {
     "data": {
      "image/png": "[encoded data removed]",
      "text/plain": [
       "<Figure size 500x500 with 2 Axes>"
      ]
     },
     "metadata": {},
     "output_type": "display_data"
    }
   ],
   "source": [
    "# Evaluación sin CV\n",
    "evaluate_classification_model_no_cv(modelKNN, X_test, y_test)"
   ]
  },
  {
   "cell_type": "code",
   "execution_count": null,
   "id": "f0cc9cb7",
   "metadata": {},
   "outputs": [],
   "source": [
    "# Evaluación con CV\n",
    "evaluate_classification_model_with_cv(modelKNN, X_test, y_test, cv=5)"
   ]
  },
  {
   "cell_type": "markdown",
   "id": "83fce265",
   "metadata": {},
   "source": [
    "# LogisticRegression"
   ]
  },
  {
   "cell_type": "code",
   "execution_count": null,
   "id": "04fde1e9",
   "metadata": {},
   "outputs": [],
   "source": [
    "start_time = time.time()\n",
    "modelLR = LogisticRegression(max_iter=1000)\n",
    "# Se entrena el modelo con los datos de entrenamiento\n",
    "modelLR.fit(X_train, y_train)\n",
    "training_time = time.time() - start_time\n",
    "print(\"Tiempo de entrenamiento:\", training_time, \"segundos\")"
   ]
  },
  {
   "cell_type": "code",
   "execution_count": null,
   "id": "fa9babbe",
   "metadata": {},
   "outputs": [],
   "source": [
    "# Evaluación sin CV\n",
    "evaluate_classification_model_no_cv(modelLR, X_test, y_test)"
   ]
  },
  {
   "cell_type": "code",
   "execution_count": null,
   "id": "7c920e4a",
   "metadata": {},
   "outputs": [],
   "source": [
    "# Evaluación con CV\n",
    "evaluate_classification_model_with_cv(modelLR, X_test, y_test, cv=5)"
   ]
  },
  {
   "cell_type": "markdown",
   "id": "d26637b3",
   "metadata": {},
   "source": [
    "# SVC"
   ]
  },
  {
   "cell_type": "code",
   "execution_count": null,
   "id": "88fb353e",
   "metadata": {},
   "outputs": [],
   "source": [
    "start_time = time.time()\n",
    "modelSVC = LinearSVC()\n",
    "# Se entrena el modelo con los datos de entrenamiento\n",
    "modelSVC.fit(X_train, y_train)\n",
    "training_time = time.time() - start_time\n",
    "print(\"Tiempo de entrenamiento:\", training_time, \"segundos\")"
   ]
  },
  {
   "cell_type": "code",
   "execution_count": null,
   "id": "24c4ff9f",
   "metadata": {},
   "outputs": [],
   "source": [
    "# Evaluación sin CV\n",
    "evaluate_classification_model_no_cv(modelSVC, X_test, y_test)"
   ]
  },
  {
   "cell_type": "code",
   "execution_count": null,
   "id": "560aa4e9",
   "metadata": {},
   "outputs": [],
   "source": [
    "# Evaluación con CV\n",
    "evaluate_classification_model_with_cv(modelSVC, X_test, y_test, cv=5)"
   ]
  },
  {
   "cell_type": "markdown",
   "id": "57014b28",
   "metadata": {},
   "source": [
    "# RandomForestClassifier"
   ]
  },
  {
   "cell_type": "code",
   "execution_count": null,
   "id": "2c1abdd5",
   "metadata": {},
   "outputs": [],
   "source": [
    "start_time = time.time()\n",
    "modelRF = RandomForestClassifier()\n",
    "# Se entrena el modelo con los datos de entrenamiento\n",
    "modelRF.fit(X_train, y_train)\n",
    "training_time = time.time() - start_time\n",
    "print(\"Tiempo de entrenamiento:\", training_time, \"segundos\")"
   ]
  },
  {
   "cell_type": "code",
   "execution_count": null,
   "id": "fc2e7168",
   "metadata": {},
   "outputs": [],
   "source": [
    "# Evaluación sin CV\n",
    "evaluate_classification_model_no_cv(modelRF, X_test, y_test)"
   ]
  },
  {
   "cell_type": "code",
   "execution_count": null,
   "id": "2ad1724a",
   "metadata": {},
   "outputs": [],
   "source": [
    "# Evaluación con CV\n",
    "evaluate_classification_model_with_cv(modelRF, X_test, y_test, cv=5)"
   ]
  },
  {
   "cell_type": "markdown",
   "id": "a51fe295",
   "metadata": {},
   "source": [
    "# Decision Tree"
   ]
  },
  {
   "cell_type": "code",
   "execution_count": null,
   "id": "ea979a35",
   "metadata": {},
   "outputs": [],
   "source": [
    "from sklearn.tree import DecisionTreeClassifier\n",
    "start_time = time.time()\n",
    "# Crear el modelo de árbol de decisión\n",
    "modelDT = DecisionTreeClassifier()\n",
    "\n",
    "# Entrenar el modelo con los datos de entrenamiento\n",
    "modelDT.fit(X_train, y_train)\n",
    "training_time = time.time() - start_time\n",
    "print(\"Tiempo de entrenamiento:\", training_time, \"segundos\")"
   ]
  },
  {
   "cell_type": "code",
   "execution_count": null,
   "id": "6899ee1d",
   "metadata": {},
   "outputs": [],
   "source": [
    "# Evaluación sin CV\n",
    "evaluate_classification_model_no_cv(modelDT, X_test, y_test)"
   ]
  },
  {
   "cell_type": "code",
   "execution_count": null,
   "id": "7e5f2305",
   "metadata": {},
   "outputs": [],
   "source": [
    "# Evaluación con CV\n",
    "evaluate_classification_model_with_cv(modelDT, X_test, y_test, cv=5)"
   ]
  },
  {
   "cell_type": "markdown",
   "id": "4c771036",
   "metadata": {},
   "source": [
    "# XGBoost"
   ]
  },
  {
   "cell_type": "code",
   "execution_count": null,
   "id": "2627ed6c",
   "metadata": {},
   "outputs": [],
   "source": [
    "import xgboost as xgb\n",
    "# Crear el modelo XGBoost\n",
    "start_time = time.time()\n",
    "modelXGB = xgb.XGBClassifier()\n",
    "# Entrenar el modelo con los datos de entrenamiento\n",
    "modelXGB.fit(X_train, y_train)\n",
    "training_time = time.time() - start_time\n",
    "print(\"Tiempo de entrenamiento:\", training_time, \"segundos\")"
   ]
  },
  {
   "cell_type": "code",
   "execution_count": null,
   "id": "df43f746",
   "metadata": {},
   "outputs": [],
   "source": [
    "# Evaluación sin CV\n",
    "evaluate_classification_model_no_cv(modelXGB, X_test, y_test)"
   ]
  },
  {
   "cell_type": "code",
   "execution_count": null,
   "id": "369e8c7f",
   "metadata": {},
   "outputs": [],
   "source": [
    "# Evaluación con CV\n",
    "evaluate_classification_model_with_cv(modelXGB, X_test, y_test, cv=5)"
   ]
  },
  {
   "cell_type": "markdown",
   "id": "4d6ec5f4",
   "metadata": {},
   "source": [
    "# Naive Bayes"
   ]
  },
  {
   "cell_type": "code",
   "execution_count": null,
   "id": "cbbfb428",
   "metadata": {},
   "outputs": [],
   "source": [
    "from sklearn.naive_bayes import GaussianNB\n",
    "start_time = time.time()\n",
    "# Crear el modelo de clasificador Naive Bayes\n",
    "modelNB = GaussianNB()\n",
    "\n",
    "# Entrenar el modelo con los datos de entrenamiento\n",
    "modelNB.fit(X_train, y_train)\n",
    "training_time = time.time() - start_time\n",
    "print(\"Tiempo de entrenamiento:\", training_time, \"segundos\")"
   ]
  },
  {
   "cell_type": "code",
   "execution_count": null,
   "id": "557ccf28",
   "metadata": {},
   "outputs": [],
   "source": [
    "# Evaluación sin CV\n",
    "evaluate_classification_model_no_cv(modelNB, X_test, y_test)"
   ]
  },
  {
   "cell_type": "code",
   "execution_count": null,
   "id": "d951937f",
   "metadata": {},
   "outputs": [],
   "source": [
    "# Evaluación con CV\n",
    "evaluate_classification_model_with_cv(modelNB, X_test, y_test, cv=5)"
   ]
  },
  {
   "cell_type": "markdown",
   "id": "ff482ddd",
   "metadata": {},
   "source": [
    "# Ensemble Classifier con votación mayoritaria para mejorar la precisión"
   ]
  },
  {
   "cell_type": "code",
   "execution_count": null,
   "id": "e59c5c80",
   "metadata": {},
   "outputs": [],
   "source": [
    "from sklearn.ensemble import VotingClassifier\n",
    "# Crear el ensemble classifier con votación mayoritaria\n",
    "ensemble_model = VotingClassifier(estimators=[('KNN', modelKNN),('LR', modelLR), ('SVC', modelSVC), ('RF', modelRF),('DT', modelDT), ('XGB', modelXGB),('NB', modelNB)], voting='hard')\n",
    "\n",
    "# Entrenar el ensemble classifier\n",
    "ensemble_model.fit(X_train, y_train)\n",
    "\n",
    "# Hacer predicciones con el ensemble classifier\n",
    "predictions = ensemble_model.predict(X_test)\n",
    "\n",
    "# Evaluar el rendimiento del ensemble classifier\n",
    "accuracy = accuracy_score(y_test, predictions)\n",
    "print('Accuracy: {:.2f}%'.format(accuracy * 100))\n",
    "   \n",
    "# Recall\n",
    "recall = recall_score(y_test, predictions)\n",
    "print('Recall: {:.2f}%'.format(recall * 100))\n",
    "\n",
    "# Precisión\n",
    "precision = precision_score(y_test, predictions)\n",
    "print('Precisión: {:.2f}%'.format(precision * 100))\n",
    "\n",
    "# F1 Score\n",
    "f1 = f1_score(y_test, predictions)\n",
    "print('F1 Score: {:.2f}%'.format(f1 * 100))"
   ]
  },
  {
   "cell_type": "code",
   "execution_count": null,
   "id": "aa2a7033",
   "metadata": {},
   "outputs": [],
   "source": []
  },
  {
   "cell_type": "code",
   "execution_count": null,
   "id": "ab1b988c",
   "metadata": {},
   "outputs": [],
   "source": []
  },
  {
   "cell_type": "code",
   "execution_count": null,
   "id": "86feb7bd",
   "metadata": {},
   "outputs": [],
   "source": []
  }
 ],
 "metadata": {
  "kernelspec": {
   "display_name": "Python 3 (ipykernel)",
   "language": "python",
   "name": "python3"
  },
  "language_info": {
   "codemirror_mode": {
    "name": "ipython",
    "version": 3
   },
   "file_extension": ".py",
   "mimetype": "text/x-python",
   "name": "python",
   "nbconvert_exporter": "python",
   "pygments_lexer": "ipython3",
   "version": "3.11.3"
  }
 },
 "nbformat": 4,
 "nbformat_minor": 5
}
