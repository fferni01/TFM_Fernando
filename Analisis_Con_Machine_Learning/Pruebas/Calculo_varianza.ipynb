{
 "cells": [
  {
   "cell_type": "code",
   "execution_count": 1,
   "id": "417cdbb0",
   "metadata": {},
   "outputs": [],
   "source": [
    "# Python ≥3.5 is required\n",
    "import sys\n",
    "assert sys.version_info >= (3, 5)\n",
    "\n",
    "# Scikit-Learn ≥0.20 is required\n",
    "import sklearn\n",
    "assert sklearn.__version__ >= \"0.20\"\n",
    "\n",
    "# Common imports\n",
    "import numpy as np\n",
    "import os\n",
    "\n",
    "# To plot pretty figures\n",
    "%matplotlib inline\n",
    "import matplotlib as mpl\n",
    "import matplotlib.pyplot as plt\n",
    "mpl.rc('axes', labelsize=14)\n",
    "mpl.rc('xtick', labelsize=12)\n",
    "mpl.rc('ytick', labelsize=12)"
   ]
  },
  {
   "cell_type": "code",
   "execution_count": 2,
   "id": "dd3dc914",
   "metadata": {},
   "outputs": [],
   "source": [
    "import pandas as pd\n",
    "malicious_data = pd.read_csv(\"TraficoMaloCompleto.csv\")\n",
    "non_malicious_data = pd.read_csv(\"TraficoBuenoCompleto.csv\")"
   ]
  },
  {
   "cell_type": "code",
   "execution_count": 3,
   "id": "7f3ec1f9",
   "metadata": {},
   "outputs": [],
   "source": [
    "import socket\n",
    "\n",
    "# Función para convertir direcciones IP en valores enteros\n",
    "def ip_to_integer(ip):\n",
    "    stripped_ip = list(map(int, ip.split('.')))\n",
    "    if len(stripped_ip) == 4:\n",
    "        return ((stripped_ip[0] * pow(256, 3)) + (stripped_ip[1] * pow(256, 2)) + (stripped_ip[2] * 256) + stripped_ip[3])\n",
    "    else:\n",
    "        return ip"
   ]
  },
  {
   "cell_type": "code",
   "execution_count": 4,
   "id": "e11dcbe9",
   "metadata": {},
   "outputs": [],
   "source": [
    "datos = pd.concat([malicious_data, non_malicious_data]).sample(frac=1, random_state=2)\n",
    "datos['srcaddr'] = datos['srcaddr'].apply(ip_to_integer)\n",
    "datos['dstaddr'] = datos['dstaddr'].apply(ip_to_integer)\n",
    "datos['exaddr'] = datos['exaddr'].apply(ip_to_integer)\n",
    "datos['nexthop'] = datos['nexthop'].apply(ip_to_integer)"
   ]
  },
  {
   "cell_type": "code",
   "execution_count": 5,
   "id": "7eafc13e",
   "metadata": {},
   "outputs": [],
   "source": [
    "from sklearn.feature_selection import VarianceThreshold\n",
    "# Cálculo de la varianza\n",
    "selector = VarianceThreshold()\n",
    "selector.fit(datos)\n",
    "cols = datos.columns[selector.variances_ == 0]"
   ]
  },
  {
   "cell_type": "code",
   "execution_count": 6,
   "id": "6cf49801",
   "metadata": {},
   "outputs": [
    {
     "name": "stdout",
     "output_type": "stream",
     "text": [
      "Index(['engine_type', 'engine_id', 'src_mask', 'dst_mask', 'src_as', 'dst_as'], dtype='object')\n"
     ]
    }
   ],
   "source": [
    "print(cols)"
   ]
  },
  {
   "cell_type": "code",
   "execution_count": null,
   "id": "63cf7b68",
   "metadata": {},
   "outputs": [],
   "source": []
  }
 ],
 "metadata": {
  "kernelspec": {
   "display_name": "Python 3 (ipykernel)",
   "language": "python",
   "name": "python3"
  },
  "language_info": {
   "codemirror_mode": {
    "name": "ipython",
    "version": 3
   },
   "file_extension": ".py",
   "mimetype": "text/x-python",
   "name": "python",
   "nbconvert_exporter": "python",
   "pygments_lexer": "ipython3",
   "version": "3.11.3"
  }
 },
 "nbformat": 4,
 "nbformat_minor": 5
}
